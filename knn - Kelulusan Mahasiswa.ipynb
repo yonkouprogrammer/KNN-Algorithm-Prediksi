{
 "cells": [
  {
   "cell_type": "markdown",
   "metadata": {
    "id": "0MRC0e0KhQ0S"
   },
   "source": [
    "# K - Nearest Neighbors (K-NN) "
   ]
  },
  {
   "cell_type": "markdown",
   "metadata": {
    "id": "LWd1UlMnhT2s"
   },
   "source": [
    "## Importing the libraries"
   ]
  },
  {
   "cell_type": "code",
   "execution_count": 17,
   "metadata": {
    "id": "YvGPUQaHhXfL"
   },
   "outputs": [],
   "source": [
    "import numpy as np # berfungsi memudahkan operasi komputasi tipe data numerik seperti penjumlahan, pengurangan, perkalian, dll\n",
    "import pandas as pd # biasa digunakan memnampilkan data dalam bentuk tabel\n",
    "import matplotlib.pyplot as plt # untuk memvisualisasikan data"
   ]
  },
  {
   "cell_type": "markdown",
   "metadata": {
    "id": "K1VMqkGvhc3-"
   },
   "source": [
    "# Membaca Data"
   ]
  },
  {
   "cell_type": "code",
   "execution_count": 18,
   "metadata": {
    "colab": {
     "base_uri": "https://localhost:8080/",
     "height": 424
    },
    "id": "f0hAj9PDeUlo",
    "outputId": "4d6adf49-e0ff-409c-d5e9-c3dd16e48b14"
   },
   "outputs": [
    {
     "data": {
      "text/html": [
       "<div>\n",
       "<style scoped>\n",
       "    .dataframe tbody tr th:only-of-type {\n",
       "        vertical-align: middle;\n",
       "    }\n",
       "\n",
       "    .dataframe tbody tr th {\n",
       "        vertical-align: top;\n",
       "    }\n",
       "\n",
       "    .dataframe thead th {\n",
       "        text-align: right;\n",
       "    }\n",
       "</style>\n",
       "<table border=\"1\" class=\"dataframe\">\n",
       "  <thead>\n",
       "    <tr style=\"text-align: right;\">\n",
       "      <th></th>\n",
       "      <th>sks1</th>\n",
       "      <th>sks2</th>\n",
       "      <th>sks3</th>\n",
       "      <th>sks4</th>\n",
       "      <th>sks5</th>\n",
       "      <th>sks6</th>\n",
       "      <th>sks7</th>\n",
       "      <th>sks8</th>\n",
       "      <th>ips1</th>\n",
       "      <th>ips2</th>\n",
       "      <th>...</th>\n",
       "      <th>ipk3</th>\n",
       "      <th>ipk4</th>\n",
       "      <th>ipk5</th>\n",
       "      <th>ipk6</th>\n",
       "      <th>ipk7</th>\n",
       "      <th>ipk8</th>\n",
       "      <th>kerja</th>\n",
       "      <th>nikah</th>\n",
       "      <th>organisasi</th>\n",
       "      <th>label</th>\n",
       "    </tr>\n",
       "  </thead>\n",
       "  <tbody>\n",
       "    <tr>\n",
       "      <th>0</th>\n",
       "      <td>19</td>\n",
       "      <td>21</td>\n",
       "      <td>18</td>\n",
       "      <td>23</td>\n",
       "      <td>21</td>\n",
       "      <td>17</td>\n",
       "      <td>20</td>\n",
       "      <td>8</td>\n",
       "      <td>3.53</td>\n",
       "      <td>3.90</td>\n",
       "      <td>...</td>\n",
       "      <td>3.59</td>\n",
       "      <td>3.56</td>\n",
       "      <td>3.59</td>\n",
       "      <td>3.60</td>\n",
       "      <td>3.48</td>\n",
       "      <td>3.50</td>\n",
       "      <td>IYA</td>\n",
       "      <td>SUDAH</td>\n",
       "      <td>IYA</td>\n",
       "      <td>TERLAMBAT</td>\n",
       "    </tr>\n",
       "    <tr>\n",
       "      <th>1</th>\n",
       "      <td>19</td>\n",
       "      <td>21</td>\n",
       "      <td>18</td>\n",
       "      <td>23</td>\n",
       "      <td>21</td>\n",
       "      <td>17</td>\n",
       "      <td>20</td>\n",
       "      <td>8</td>\n",
       "      <td>3.47</td>\n",
       "      <td>3.76</td>\n",
       "      <td>...</td>\n",
       "      <td>3.57</td>\n",
       "      <td>3.54</td>\n",
       "      <td>3.60</td>\n",
       "      <td>3.59</td>\n",
       "      <td>3.47</td>\n",
       "      <td>3.49</td>\n",
       "      <td>IYA</td>\n",
       "      <td>SUDAH</td>\n",
       "      <td>IYA</td>\n",
       "      <td>TERLAMBAT</td>\n",
       "    </tr>\n",
       "    <tr>\n",
       "      <th>2</th>\n",
       "      <td>19</td>\n",
       "      <td>21</td>\n",
       "      <td>18</td>\n",
       "      <td>23</td>\n",
       "      <td>21</td>\n",
       "      <td>17</td>\n",
       "      <td>20</td>\n",
       "      <td>8</td>\n",
       "      <td>3.21</td>\n",
       "      <td>3.14</td>\n",
       "      <td>...</td>\n",
       "      <td>3.17</td>\n",
       "      <td>3.19</td>\n",
       "      <td>3.22</td>\n",
       "      <td>3.17</td>\n",
       "      <td>3.10</td>\n",
       "      <td>3.13</td>\n",
       "      <td>BELUM</td>\n",
       "      <td>SUDAH</td>\n",
       "      <td>IYA</td>\n",
       "      <td>TERLAMBAT</td>\n",
       "    </tr>\n",
       "    <tr>\n",
       "      <th>3</th>\n",
       "      <td>19</td>\n",
       "      <td>21</td>\n",
       "      <td>18</td>\n",
       "      <td>23</td>\n",
       "      <td>21</td>\n",
       "      <td>17</td>\n",
       "      <td>20</td>\n",
       "      <td>8</td>\n",
       "      <td>3.21</td>\n",
       "      <td>3.14</td>\n",
       "      <td>...</td>\n",
       "      <td>3.07</td>\n",
       "      <td>3.19</td>\n",
       "      <td>3.22</td>\n",
       "      <td>3.17</td>\n",
       "      <td>3.10</td>\n",
       "      <td>3.13</td>\n",
       "      <td>IYA</td>\n",
       "      <td>BELUM</td>\n",
       "      <td>TIDAK</td>\n",
       "      <td>TERLAMBAT</td>\n",
       "    </tr>\n",
       "    <tr>\n",
       "      <th>4</th>\n",
       "      <td>19</td>\n",
       "      <td>21</td>\n",
       "      <td>18</td>\n",
       "      <td>23</td>\n",
       "      <td>21</td>\n",
       "      <td>17</td>\n",
       "      <td>20</td>\n",
       "      <td>8</td>\n",
       "      <td>3.58</td>\n",
       "      <td>3.33</td>\n",
       "      <td>...</td>\n",
       "      <td>3.45</td>\n",
       "      <td>3.46</td>\n",
       "      <td>3.51</td>\n",
       "      <td>3.51</td>\n",
       "      <td>3.51</td>\n",
       "      <td>3.43</td>\n",
       "      <td>BELUM</td>\n",
       "      <td>SUDAH</td>\n",
       "      <td>TIDAK</td>\n",
       "      <td>TERLAMBAT</td>\n",
       "    </tr>\n",
       "  </tbody>\n",
       "</table>\n",
       "<p>5 rows × 28 columns</p>\n",
       "</div>"
      ],
      "text/plain": [
       "   sks1  sks2  sks3  sks4  sks5  sks6  sks7  sks8  ips1  ips2  ...  ipk3  \\\n",
       "0    19    21    18    23    21    17    20     8  3.53  3.90  ...  3.59   \n",
       "1    19    21    18    23    21    17    20     8  3.47  3.76  ...  3.57   \n",
       "2    19    21    18    23    21    17    20     8  3.21  3.14  ...  3.17   \n",
       "3    19    21    18    23    21    17    20     8  3.21  3.14  ...  3.07   \n",
       "4    19    21    18    23    21    17    20     8  3.58  3.33  ...  3.45   \n",
       "\n",
       "   ipk4  ipk5  ipk6  ipk7  ipk8  kerja  nikah  organisasi      label  \n",
       "0  3.56  3.59  3.60  3.48  3.50    IYA  SUDAH         IYA  TERLAMBAT  \n",
       "1  3.54  3.60  3.59  3.47  3.49    IYA  SUDAH         IYA  TERLAMBAT  \n",
       "2  3.19  3.22  3.17  3.10  3.13  BELUM  SUDAH         IYA  TERLAMBAT  \n",
       "3  3.19  3.22  3.17  3.10  3.13    IYA  BELUM       TIDAK  TERLAMBAT  \n",
       "4  3.46  3.51  3.51  3.51  3.43  BELUM  SUDAH       TIDAK  TERLAMBAT  \n",
       "\n",
       "[5 rows x 28 columns]"
      ]
     },
     "execution_count": 18,
     "metadata": {},
     "output_type": "execute_result"
    }
   ],
   "source": [
    "dataset = pd.read_csv('dataku.csv')\n",
    "df = dataset\n",
    "df.head()"
   ]
  },
  {
   "cell_type": "code",
   "execution_count": 19,
   "metadata": {},
   "outputs": [],
   "source": [
    "# Lebel Encoder = Mengubah data bertipe String menjadi data bertipe numerik"
   ]
  },
  {
   "cell_type": "code",
   "execution_count": 20,
   "metadata": {
    "colab": {
     "base_uri": "https://localhost:8080/",
     "height": 424
    },
    "id": "UIMJWHXxeUlo",
    "outputId": "96c4fc3b-c3bb-4b15-98fb-c1a3e1d4ce3d"
   },
   "outputs": [
    {
     "data": {
      "text/html": [
       "<div>\n",
       "<style scoped>\n",
       "    .dataframe tbody tr th:only-of-type {\n",
       "        vertical-align: middle;\n",
       "    }\n",
       "\n",
       "    .dataframe tbody tr th {\n",
       "        vertical-align: top;\n",
       "    }\n",
       "\n",
       "    .dataframe thead th {\n",
       "        text-align: right;\n",
       "    }\n",
       "</style>\n",
       "<table border=\"1\" class=\"dataframe\">\n",
       "  <thead>\n",
       "    <tr style=\"text-align: right;\">\n",
       "      <th></th>\n",
       "      <th>sks1</th>\n",
       "      <th>sks2</th>\n",
       "      <th>sks3</th>\n",
       "      <th>sks4</th>\n",
       "      <th>sks5</th>\n",
       "      <th>sks6</th>\n",
       "      <th>sks7</th>\n",
       "      <th>sks8</th>\n",
       "      <th>ips1</th>\n",
       "      <th>ips2</th>\n",
       "      <th>...</th>\n",
       "      <th>ipk3</th>\n",
       "      <th>ipk4</th>\n",
       "      <th>ipk5</th>\n",
       "      <th>ipk6</th>\n",
       "      <th>ipk7</th>\n",
       "      <th>ipk8</th>\n",
       "      <th>kerja</th>\n",
       "      <th>nikah</th>\n",
       "      <th>organisasi</th>\n",
       "      <th>label</th>\n",
       "    </tr>\n",
       "  </thead>\n",
       "  <tbody>\n",
       "    <tr>\n",
       "      <th>0</th>\n",
       "      <td>19</td>\n",
       "      <td>21</td>\n",
       "      <td>18</td>\n",
       "      <td>23</td>\n",
       "      <td>21</td>\n",
       "      <td>17</td>\n",
       "      <td>20</td>\n",
       "      <td>8</td>\n",
       "      <td>3.53</td>\n",
       "      <td>3.90</td>\n",
       "      <td>...</td>\n",
       "      <td>3.59</td>\n",
       "      <td>3.56</td>\n",
       "      <td>3.59</td>\n",
       "      <td>3.60</td>\n",
       "      <td>3.48</td>\n",
       "      <td>3.50</td>\n",
       "      <td>1</td>\n",
       "      <td>1</td>\n",
       "      <td>0</td>\n",
       "      <td>1</td>\n",
       "    </tr>\n",
       "    <tr>\n",
       "      <th>1</th>\n",
       "      <td>19</td>\n",
       "      <td>21</td>\n",
       "      <td>18</td>\n",
       "      <td>23</td>\n",
       "      <td>21</td>\n",
       "      <td>17</td>\n",
       "      <td>20</td>\n",
       "      <td>8</td>\n",
       "      <td>3.47</td>\n",
       "      <td>3.76</td>\n",
       "      <td>...</td>\n",
       "      <td>3.57</td>\n",
       "      <td>3.54</td>\n",
       "      <td>3.60</td>\n",
       "      <td>3.59</td>\n",
       "      <td>3.47</td>\n",
       "      <td>3.49</td>\n",
       "      <td>1</td>\n",
       "      <td>1</td>\n",
       "      <td>0</td>\n",
       "      <td>1</td>\n",
       "    </tr>\n",
       "    <tr>\n",
       "      <th>2</th>\n",
       "      <td>19</td>\n",
       "      <td>21</td>\n",
       "      <td>18</td>\n",
       "      <td>23</td>\n",
       "      <td>21</td>\n",
       "      <td>17</td>\n",
       "      <td>20</td>\n",
       "      <td>8</td>\n",
       "      <td>3.21</td>\n",
       "      <td>3.14</td>\n",
       "      <td>...</td>\n",
       "      <td>3.17</td>\n",
       "      <td>3.19</td>\n",
       "      <td>3.22</td>\n",
       "      <td>3.17</td>\n",
       "      <td>3.10</td>\n",
       "      <td>3.13</td>\n",
       "      <td>0</td>\n",
       "      <td>1</td>\n",
       "      <td>0</td>\n",
       "      <td>1</td>\n",
       "    </tr>\n",
       "    <tr>\n",
       "      <th>3</th>\n",
       "      <td>19</td>\n",
       "      <td>21</td>\n",
       "      <td>18</td>\n",
       "      <td>23</td>\n",
       "      <td>21</td>\n",
       "      <td>17</td>\n",
       "      <td>20</td>\n",
       "      <td>8</td>\n",
       "      <td>3.21</td>\n",
       "      <td>3.14</td>\n",
       "      <td>...</td>\n",
       "      <td>3.07</td>\n",
       "      <td>3.19</td>\n",
       "      <td>3.22</td>\n",
       "      <td>3.17</td>\n",
       "      <td>3.10</td>\n",
       "      <td>3.13</td>\n",
       "      <td>1</td>\n",
       "      <td>0</td>\n",
       "      <td>1</td>\n",
       "      <td>1</td>\n",
       "    </tr>\n",
       "    <tr>\n",
       "      <th>4</th>\n",
       "      <td>19</td>\n",
       "      <td>21</td>\n",
       "      <td>18</td>\n",
       "      <td>23</td>\n",
       "      <td>21</td>\n",
       "      <td>17</td>\n",
       "      <td>20</td>\n",
       "      <td>8</td>\n",
       "      <td>3.58</td>\n",
       "      <td>3.33</td>\n",
       "      <td>...</td>\n",
       "      <td>3.45</td>\n",
       "      <td>3.46</td>\n",
       "      <td>3.51</td>\n",
       "      <td>3.51</td>\n",
       "      <td>3.51</td>\n",
       "      <td>3.43</td>\n",
       "      <td>0</td>\n",
       "      <td>1</td>\n",
       "      <td>1</td>\n",
       "      <td>1</td>\n",
       "    </tr>\n",
       "    <tr>\n",
       "      <th>...</th>\n",
       "      <td>...</td>\n",
       "      <td>...</td>\n",
       "      <td>...</td>\n",
       "      <td>...</td>\n",
       "      <td>...</td>\n",
       "      <td>...</td>\n",
       "      <td>...</td>\n",
       "      <td>...</td>\n",
       "      <td>...</td>\n",
       "      <td>...</td>\n",
       "      <td>...</td>\n",
       "      <td>...</td>\n",
       "      <td>...</td>\n",
       "      <td>...</td>\n",
       "      <td>...</td>\n",
       "      <td>...</td>\n",
       "      <td>...</td>\n",
       "      <td>...</td>\n",
       "      <td>...</td>\n",
       "      <td>...</td>\n",
       "      <td>...</td>\n",
       "    </tr>\n",
       "    <tr>\n",
       "      <th>67</th>\n",
       "      <td>22</td>\n",
       "      <td>24</td>\n",
       "      <td>20</td>\n",
       "      <td>24</td>\n",
       "      <td>22</td>\n",
       "      <td>21</td>\n",
       "      <td>4</td>\n",
       "      <td>5</td>\n",
       "      <td>3.83</td>\n",
       "      <td>3.43</td>\n",
       "      <td>...</td>\n",
       "      <td>3.25</td>\n",
       "      <td>3.43</td>\n",
       "      <td>3.27</td>\n",
       "      <td>3.76</td>\n",
       "      <td>3.67</td>\n",
       "      <td>2.78</td>\n",
       "      <td>0</td>\n",
       "      <td>0</td>\n",
       "      <td>0</td>\n",
       "      <td>1</td>\n",
       "    </tr>\n",
       "    <tr>\n",
       "      <th>68</th>\n",
       "      <td>22</td>\n",
       "      <td>24</td>\n",
       "      <td>20</td>\n",
       "      <td>21</td>\n",
       "      <td>24</td>\n",
       "      <td>21</td>\n",
       "      <td>24</td>\n",
       "      <td>7</td>\n",
       "      <td>3.48</td>\n",
       "      <td>3.53</td>\n",
       "      <td>...</td>\n",
       "      <td>3.70</td>\n",
       "      <td>3.76</td>\n",
       "      <td>3.92</td>\n",
       "      <td>4.00</td>\n",
       "      <td>3.92</td>\n",
       "      <td>3.29</td>\n",
       "      <td>0</td>\n",
       "      <td>0</td>\n",
       "      <td>0</td>\n",
       "      <td>1</td>\n",
       "    </tr>\n",
       "    <tr>\n",
       "      <th>69</th>\n",
       "      <td>22</td>\n",
       "      <td>24</td>\n",
       "      <td>22</td>\n",
       "      <td>19</td>\n",
       "      <td>23</td>\n",
       "      <td>23</td>\n",
       "      <td>4</td>\n",
       "      <td>4</td>\n",
       "      <td>3.26</td>\n",
       "      <td>3.76</td>\n",
       "      <td>...</td>\n",
       "      <td>3.82</td>\n",
       "      <td>3.63</td>\n",
       "      <td>3.91</td>\n",
       "      <td>3.78</td>\n",
       "      <td>2.81</td>\n",
       "      <td>3.94</td>\n",
       "      <td>0</td>\n",
       "      <td>0</td>\n",
       "      <td>0</td>\n",
       "      <td>1</td>\n",
       "    </tr>\n",
       "    <tr>\n",
       "      <th>70</th>\n",
       "      <td>22</td>\n",
       "      <td>24</td>\n",
       "      <td>22</td>\n",
       "      <td>21</td>\n",
       "      <td>22</td>\n",
       "      <td>24</td>\n",
       "      <td>7</td>\n",
       "      <td>7</td>\n",
       "      <td>3.55</td>\n",
       "      <td>3.76</td>\n",
       "      <td>...</td>\n",
       "      <td>3.55</td>\n",
       "      <td>3.14</td>\n",
       "      <td>3.25</td>\n",
       "      <td>3.75</td>\n",
       "      <td>3.32</td>\n",
       "      <td>3.50</td>\n",
       "      <td>0</td>\n",
       "      <td>0</td>\n",
       "      <td>0</td>\n",
       "      <td>0</td>\n",
       "    </tr>\n",
       "    <tr>\n",
       "      <th>71</th>\n",
       "      <td>22</td>\n",
       "      <td>24</td>\n",
       "      <td>22</td>\n",
       "      <td>21</td>\n",
       "      <td>23</td>\n",
       "      <td>23</td>\n",
       "      <td>5</td>\n",
       "      <td>6</td>\n",
       "      <td>3.55</td>\n",
       "      <td>3.77</td>\n",
       "      <td>...</td>\n",
       "      <td>3.45</td>\n",
       "      <td>3.67</td>\n",
       "      <td>3.76</td>\n",
       "      <td>3.91</td>\n",
       "      <td>4.00</td>\n",
       "      <td>4.00</td>\n",
       "      <td>0</td>\n",
       "      <td>0</td>\n",
       "      <td>0</td>\n",
       "      <td>0</td>\n",
       "    </tr>\n",
       "  </tbody>\n",
       "</table>\n",
       "<p>72 rows × 28 columns</p>\n",
       "</div>"
      ],
      "text/plain": [
       "    sks1  sks2  sks3  sks4  sks5  sks6  sks7  sks8  ips1  ips2  ...  ipk3  \\\n",
       "0     19    21    18    23    21    17    20     8  3.53  3.90  ...  3.59   \n",
       "1     19    21    18    23    21    17    20     8  3.47  3.76  ...  3.57   \n",
       "2     19    21    18    23    21    17    20     8  3.21  3.14  ...  3.17   \n",
       "3     19    21    18    23    21    17    20     8  3.21  3.14  ...  3.07   \n",
       "4     19    21    18    23    21    17    20     8  3.58  3.33  ...  3.45   \n",
       "..   ...   ...   ...   ...   ...   ...   ...   ...   ...   ...  ...   ...   \n",
       "67    22    24    20    24    22    21     4     5  3.83  3.43  ...  3.25   \n",
       "68    22    24    20    21    24    21    24     7  3.48  3.53  ...  3.70   \n",
       "69    22    24    22    19    23    23     4     4  3.26  3.76  ...  3.82   \n",
       "70    22    24    22    21    22    24     7     7  3.55  3.76  ...  3.55   \n",
       "71    22    24    22    21    23    23     5     6  3.55  3.77  ...  3.45   \n",
       "\n",
       "    ipk4  ipk5  ipk6  ipk7  ipk8  kerja  nikah  organisasi  label  \n",
       "0   3.56  3.59  3.60  3.48  3.50      1      1           0      1  \n",
       "1   3.54  3.60  3.59  3.47  3.49      1      1           0      1  \n",
       "2   3.19  3.22  3.17  3.10  3.13      0      1           0      1  \n",
       "3   3.19  3.22  3.17  3.10  3.13      1      0           1      1  \n",
       "4   3.46  3.51  3.51  3.51  3.43      0      1           1      1  \n",
       "..   ...   ...   ...   ...   ...    ...    ...         ...    ...  \n",
       "67  3.43  3.27  3.76  3.67  2.78      0      0           0      1  \n",
       "68  3.76  3.92  4.00  3.92  3.29      0      0           0      1  \n",
       "69  3.63  3.91  3.78  2.81  3.94      0      0           0      1  \n",
       "70  3.14  3.25  3.75  3.32  3.50      0      0           0      0  \n",
       "71  3.67  3.76  3.91  4.00  4.00      0      0           0      0  \n",
       "\n",
       "[72 rows x 28 columns]"
      ]
     },
     "execution_count": 20,
     "metadata": {},
     "output_type": "execute_result"
    }
   ],
   "source": [
    "from sklearn.preprocessing import LabelEncoder\n",
    "\n",
    "labelencoder = LabelEncoder()\n",
    "df['kerja'] = labelencoder.fit_transform(df['kerja'])\n",
    "df['nikah'] = labelencoder.fit_transform(df['nikah'])\n",
    "df['organisasi'] = labelencoder.fit_transform(df['organisasi'])\n",
    "df['label'] = labelencoder.fit_transform(df['label'])\n",
    "\n",
    "# Tampilkan Seluruh Data\n",
    "df"
   ]
  },
  {
   "cell_type": "code",
   "execution_count": 21,
   "metadata": {},
   "outputs": [
    {
     "data": {
      "text/plain": [
       "array([[19., 21., 18., ...,  1.,  1.,  0.],\n",
       "       [19., 21., 18., ...,  1.,  1.,  0.],\n",
       "       [19., 21., 18., ...,  0.,  1.,  0.],\n",
       "       ...,\n",
       "       [22., 24., 22., ...,  0.,  0.,  0.],\n",
       "       [22., 24., 22., ...,  0.,  0.,  0.],\n",
       "       [22., 24., 22., ...,  0.,  0.,  0.]])"
      ]
     },
     "execution_count": 21,
     "metadata": {},
     "output_type": "execute_result"
    }
   ],
   "source": [
    "df.values[:,:-1] "
   ]
  },
  {
   "cell_type": "markdown",
   "metadata": {
    "id": "YvxIPVyMhmKp"
   },
   "source": [
    "## Normalisasi Data"
   ]
  },
  {
   "cell_type": "markdown",
   "metadata": {},
   "source": [
    "MinMaxScaler tersebut membuat data berada pada rentang 0 - 1. Selain itu,ada juga yang bisasa menggunakan Normalizer. "
   ]
  },
  {
   "cell_type": "code",
   "execution_count": 22,
   "metadata": {
    "colab": {
     "base_uri": "https://localhost:8080/"
    },
    "id": "uSCvuKFrE-6V",
    "outputId": "ce0c1010-9c9c-4609-9097-f85b83035f27"
   },
   "outputs": [
    {
     "name": "stdout",
     "output_type": "stream",
     "text": [
      "jumlah data :  72\n",
      "\n",
      "[0.6        1.         0.8        0.57142857 0.83333333 0.88235294\n",
      " 0.17391304 0.2        0.69387755 0.81451613 0.8203125  1.\n",
      " 0.76146789 0.66666667 0.7875     0.55       0.81632653 0.69924812\n",
      " 0.6097561  0.74545455 0.76237624 0.928      1.         1.\n",
      " 0.         0.         0.        ]\n"
     ]
    }
   ],
   "source": [
    "from sklearn.preprocessing import MinMaxScaler # Feature Scalling\n",
    "data = df.values[:,:-1] \n",
    "\n",
    "trans = MinMaxScaler()\n",
    "data = trans.fit_transform(data)\n",
    "print('jumlah data : ', len(data))\n",
    "print()\n",
    "print((data[-1]))"
   ]
  },
  {
   "cell_type": "code",
   "execution_count": 23,
   "metadata": {
    "colab": {
     "base_uri": "https://localhost:8080/"
    },
    "id": "FAM19eNbH6ST",
    "outputId": "bd04843b-57df-465f-9abc-601056e21cb4"
   },
   "outputs": [
    {
     "name": "stdout",
     "output_type": "stream",
     "text": [
      "jumlah data :  1\n",
      "\n",
      "[[1. 1. 1. 1. 1. 1. 1. 1. 1. 1. 1. 1. 1. 1. 1. 1. 1. 1. 1. 1. 1. 1. 1. 1.\n",
      "  1. 1. 1. 0. 1. 1. 0. 1. 0. 0. 1. 1. 0. 0. 0. 0. 0. 0. 0. 0. 0. 0. 0. 1.\n",
      "  1. 1. 1. 1. 0. 0. 1. 1. 0. 1. 1. 1. 1. 1. 0. 0. 0. 0. 0. 1. 1. 1. 0. 0.]]\n"
     ]
    }
   ],
   "source": [
    "dataLabel = df.values[:, -1]\n",
    "dataLabel = np.array([dataLabel])\n",
    "print('jumlah data : ', len(dataLabel))\n",
    "print()\n",
    "print((dataLabel))"
   ]
  },
  {
   "cell_type": "markdown",
   "metadata": {},
   "source": [
    "## Hasil Normalisasi Data"
   ]
  },
  {
   "cell_type": "code",
   "execution_count": 24,
   "metadata": {
    "colab": {
     "base_uri": "https://localhost:8080/"
    },
    "id": "M3EKnz37JlmU",
    "outputId": "894c44f9-c950-4857-e0aa-84561a6a5b2b"
   },
   "outputs": [
    {
     "data": {
      "text/plain": [
       "array([0.6       , 1.        , 0.8       , 0.57142857, 0.83333333,\n",
       "       0.88235294, 0.17391304, 0.2       , 0.69387755, 0.81451613,\n",
       "       0.8203125 , 1.        , 0.76146789, 0.66666667, 0.7875    ,\n",
       "       0.55      , 0.81632653, 0.69924812, 0.6097561 , 0.74545455,\n",
       "       0.76237624, 0.928     , 1.        , 1.        , 0.        ,\n",
       "       0.        , 0.        , 0.        ])"
      ]
     },
     "execution_count": 24,
     "metadata": {},
     "output_type": "execute_result"
    }
   ],
   "source": [
    "dataset = np.concatenate((data, dataLabel.T), axis = 1)\n",
    "dataset[-1]"
   ]
  },
  {
   "cell_type": "markdown",
   "metadata": {
    "id": "bb6jCOCQiAmP"
   },
   "source": [
    "## Menghitung Euclidean Distance"
   ]
  },
  {
   "cell_type": "code",
   "execution_count": 25,
   "metadata": {
    "id": "e0pFVAmciHQs"
   },
   "outputs": [],
   "source": [
    "from math import sqrt\n",
    "\n",
    "def euclidean_distance(row1, row2):\n",
    "  euc_dist = 0.0\n",
    "  for i in range (len(row1)):\n",
    "    dist = pow((row1[i] - row2[i]),2)\n",
    "    euc_dist = euc_dist + dist\n",
    "  return sqrt(euc_dist)"
   ]
  },
  {
   "cell_type": "markdown",
   "metadata": {
    "id": "yyxW5b395mR2"
   },
   "source": [
    "## K Tetangga Terdekat"
   ]
  },
  {
   "cell_type": "code",
   "execution_count": 26,
   "metadata": {
    "id": "f8YOXsQy58rP"
   },
   "outputs": [],
   "source": [
    "def nearest_neighbours(x_train, x_test, k):\n",
    "  distance = []\n",
    "  neighbors = list()\n",
    "  \n",
    "  for train_row in x_train:\n",
    "    distance.append((train_row, euclidean_distance(train_row, x_test)))\n",
    "  distance.sort(key = lambda tup: tup[1])\n",
    "\n",
    "  for i in range(k):\n",
    "    neighbors.append(distance[i][0])\n",
    "  return(neighbors)"
   ]
  },
  {
   "cell_type": "markdown",
   "metadata": {
    "id": "vKYVQH-l5NpE"
   },
   "source": [
    "## Predicting the Test set results"
   ]
  },
  {
   "cell_type": "code",
   "execution_count": 27,
   "metadata": {
    "id": "p6VMTb2O4hwM"
   },
   "outputs": [],
   "source": [
    "def knn_predict(x_train, x_test,k):\n",
    "  neighbors = nearest_neighbours(x_train, x_test, k)\n",
    "  top_neighbors = [x[-1] for x in neighbors]\n",
    "\n",
    "  pred_output = max(set(top_neighbors), key=top_neighbors.count)\n",
    "  return pred_output"
   ]
  },
  {
   "cell_type": "markdown",
   "metadata": {
    "id": "yFzyFW_Hie6e"
   },
   "source": [
    "## Splitting Dataset (membagi data training dan data test)\n",
    "Splitting data adalah salah satu metode yang dapat digunakan untuk mengevaluasi performa model machine learning. Metode evaluasi model ini membagi dataset menjadi dua bagian yakni bagian yang digunakan untuk training data dan untuk testing data dengan proporsi tertentu.\n",
    "\n",
    "Train data digunakan untuk fit model machine learning, sedangkan test data digunakan untuk mengevaluasi hasil fit model tersebut."
   ]
  },
  {
   "cell_type": "code",
   "execution_count": 43,
   "metadata": {
    "colab": {
     "base_uri": "https://localhost:8080/"
    },
    "id": "oLpeuM-yt23I",
    "outputId": "efd3e772-e961-4ee6-ae57-f1de223c14f8"
   },
   "outputs": [
    {
     "name": "stdout",
     "output_type": "stream",
     "text": [
      "Actual 1.0, system 1.0\n",
      "Actual 0.0, system 1.0\n",
      "Actual 1.0, system 1.0\n",
      "Actual 1.0, system 1.0\n",
      "Actual 0.0, system 1.0\n",
      "Actual 1.0, system 1.0\n",
      "Actual 1.0, system 1.0\n",
      "Actual 1.0, system 1.0\n",
      "Actual 1.0, system 1.0\n",
      "Actual 0.0, system 1.0\n",
      "Actual 0.0, system 1.0\n",
      "Actual 1.0, system 1.0\n",
      "Actual 1.0, system 1.0\n",
      "Actual 0.0, system 1.0\n",
      "Actual 0.0, system 1.0\n",
      "Actual 1.0, system 1.0\n",
      "Actual 0.0, system 1.0\n",
      "Actual 0.0, system 1.0\n",
      "Actual 0.0, system 1.0\n",
      "Actual 1.0, system 1.0\n",
      "Actual 0.0, system 1.0\n",
      "Actual 1.0, system 1.0\n",
      "Actual 1.0, system 1.0\n",
      "Actual 0.0, system 1.0\n",
      "Actual 1.0, system 1.0\n",
      "Actual 1.0, system 1.0\n",
      "Actual 1.0, system 1.0\n",
      "Actual 0.0, system 1.0\n",
      "Actual 1.0, system 1.0\n",
      "Actual 0.0, system 1.0\n",
      "Actual 1.0, system 1.0\n",
      "Actual 0.0, system 1.0\n",
      "Actual 1.0, system 1.0\n",
      "Actual 0.0, system 1.0\n",
      "Actual 1.0, system 1.0\n",
      "Actual 1.0, system 1.0\n",
      "Actual 1.0, system 1.0\n",
      "Actual 1.0, system 1.0\n",
      "Actual 0.0, system 1.0\n",
      "Actual 1.0, system 1.0\n",
      "Actual 1.0, system 1.0\n",
      "Actual 1.0, system 1.0\n",
      "Actual 1.0, system 1.0\n",
      "Actual 1.0, system 1.0\n",
      "Actual 1.0, system 1.0\n",
      "Actual 1.0, system 1.0\n",
      "Actual 0.0, system 1.0\n",
      "Actual 1.0, system 1.0\n",
      "Actual 1.0, system 1.0\n",
      "Actual 1.0, system 1.0\n",
      "Actual 0.0, system 1.0\n",
      "Actual 1.0, system 1.0\n",
      "Actual 1.0, system 1.0\n",
      "Actual 0.0, system 1.0\n",
      "Actual 0.0, system 1.0\n",
      "Actual 0.0, system 1.0\n",
      "Actual 0.0, system 1.0\n",
      "Actual 1.0, system 1.0\n",
      "Actual 1.0, system 1.0\n",
      "Actual 1.0, system 1.0\n",
      "Actual 1.0, system 1.0\n",
      "Actual 1.0, system 1.0\n",
      "Actual 1.0, system 1.0\n",
      "Actual 1.0, system 1.0\n",
      "Actual 0.0, system 1.0\n"
     ]
    }
   ],
   "source": [
    "from sklearn.model_selection import train_test_split\n",
    "training_data, testing_data = train_test_split(dataset, test_size = 0.90, random_state=0)\n",
    "\n",
    "y_pred = np.array([])\n",
    "\n",
    "for i in range (len(testing_data)):\n",
    "  pred_output = knn_predict(training_data, testing_data[i], 3)\n",
    "  print('Actual {}, system {}'.format(testing_data[i][-1],pred_output))\n",
    "  prediction = np.array([pred_output])\n",
    "  y_pred = np.concatenate((y_pred,prediction))\n"
   ]
  },
  {
   "cell_type": "markdown",
   "metadata": {
    "id": "hu-kxCg2XUtp"
   },
   "source": [
    "# Evaluasi"
   ]
  },
  {
   "cell_type": "code",
   "execution_count": 44,
   "metadata": {
    "colab": {
     "base_uri": "https://localhost:8080/"
    },
    "id": "A0TMywqDTafZ",
    "outputId": "e160f8cc-3b7a-4af7-95ee-f451feb428b7"
   },
   "outputs": [
    {
     "name": "stdout",
     "output_type": "stream",
     "text": [
      "[[1. 1.]\n",
      " [1. 0.]\n",
      " [1. 1.]\n",
      " [1. 1.]\n",
      " [1. 0.]\n",
      " [1. 1.]\n",
      " [1. 1.]\n",
      " [1. 1.]\n",
      " [1. 1.]\n",
      " [1. 0.]\n",
      " [1. 0.]\n",
      " [1. 1.]\n",
      " [1. 1.]\n",
      " [1. 0.]\n",
      " [1. 0.]\n",
      " [1. 1.]\n",
      " [1. 0.]\n",
      " [1. 0.]\n",
      " [1. 0.]\n",
      " [1. 1.]\n",
      " [1. 0.]\n",
      " [1. 1.]\n",
      " [1. 1.]\n",
      " [1. 0.]\n",
      " [1. 1.]\n",
      " [1. 1.]\n",
      " [1. 1.]\n",
      " [1. 0.]\n",
      " [1. 1.]\n",
      " [1. 0.]\n",
      " [1. 1.]\n",
      " [1. 0.]\n",
      " [1. 1.]\n",
      " [1. 0.]\n",
      " [1. 1.]\n",
      " [1. 1.]\n",
      " [1. 1.]\n",
      " [1. 1.]\n",
      " [1. 0.]\n",
      " [1. 1.]\n",
      " [1. 1.]\n",
      " [1. 1.]\n",
      " [1. 1.]\n",
      " [1. 1.]\n",
      " [1. 1.]\n",
      " [1. 1.]\n",
      " [1. 0.]\n",
      " [1. 1.]\n",
      " [1. 1.]\n",
      " [1. 1.]\n",
      " [1. 0.]\n",
      " [1. 1.]\n",
      " [1. 1.]\n",
      " [1. 0.]\n",
      " [1. 0.]\n",
      " [1. 0.]\n",
      " [1. 0.]\n",
      " [1. 1.]\n",
      " [1. 1.]\n",
      " [1. 1.]\n",
      " [1. 1.]\n",
      " [1. 1.]\n",
      " [1. 1.]\n",
      " [1. 1.]\n",
      " [1. 0.]]\n"
     ]
    }
   ],
   "source": [
    "y_test = testing_data[:, -1]\n",
    "y_pred = y_pred\n",
    "\n",
    "print(np.concatenate((y_pred.reshape(len(y_pred),1), y_test.reshape(len(y_test),1)),1))"
   ]
  },
  {
   "cell_type": "code",
   "execution_count": 45,
   "metadata": {
    "colab": {
     "base_uri": "https://localhost:8080/"
    },
    "id": "_UZ-ASdAXYtX",
    "outputId": "ede4e311-70d5-47f1-f146-380a676c895a"
   },
   "outputs": [
    {
     "name": "stdout",
     "output_type": "stream",
     "text": [
      "[[ 0 23]\n",
      " [ 0 42]]\n"
     ]
    },
    {
     "data": {
      "text/plain": [
       "0.6461538461538462"
      ]
     },
     "execution_count": 45,
     "metadata": {},
     "output_type": "execute_result"
    }
   ],
   "source": [
    "#Confussion Matrix\n",
    "from sklearn.metrics import confusion_matrix, accuracy_score\n",
    "cm = confusion_matrix(y_test, y_pred)\n",
    "print(cm)\n",
    "\n",
    "# Menghitung Nilai Akurasi\n",
    "accuracy_score(y_test, y_pred)"
   ]
  },
  {
   "cell_type": "code",
   "execution_count": 46,
   "metadata": {
    "colab": {
     "base_uri": "https://localhost:8080/",
     "height": 338
    },
    "id": "06S5loevXdSu",
    "outputId": "3fda0758-a09c-48a0-ca76-3b78a71de688"
   },
   "outputs": [
    {
     "data": {
      "image/png": "[encoded data removed]",
      "text/plain": [
       "<Figure size 576x360 with 2 Axes>"
      ]
     },
     "metadata": {
      "needs_background": "light"
     },
     "output_type": "display_data"
    }
   ],
   "source": [
    "import seaborn as sns\n",
    "import matplotlib.pyplot as plt\n",
    "f, ax = plt.subplots(figsize=(8,5))\n",
    "\n",
    "sns.heatmap(confusion_matrix(y_test, y_pred), annot=True, fmt=\".0f\", ax=ax)\n",
    "plt.xlabel(\"Actual\")\n",
    "plt.ylabel(\"Prediction\")\n",
    "plt.show()"
   ]
  },
  {
   "cell_type": "markdown",
   "metadata": {
    "id": "uqCPudS6wATy"
   },
   "source": [
    "# Menghitung Akurasi"
   ]
  },
  {
   "cell_type": "code",
   "execution_count": 47,
   "metadata": {
    "colab": {
     "base_uri": "https://localhost:8080/"
    },
    "id": "BQ7rMUxpv-dU",
    "outputId": "34efd714-619a-4761-90ab-7e6a573dbe0e"
   },
   "outputs": [
    {
     "name": "stdout",
     "output_type": "stream",
     "text": [
      "              precision    recall  f1-score   support\n",
      "\n",
      "         0.0       0.00      0.00      0.00        23\n",
      "         1.0       0.65      1.00      0.79        42\n",
      "\n",
      "    accuracy                           0.65        65\n",
      "   macro avg       0.32      0.50      0.39        65\n",
      "weighted avg       0.42      0.65      0.51        65\n",
      "\n"
     ]
    },
    {
     "name": "stderr",
     "output_type": "stream",
     "text": [
      "C:\\Users\\hp\\anaconda3\\lib\\site-packages\\sklearn\\metrics\\_classification.py:1248: UndefinedMetricWarning: Precision and F-score are ill-defined and being set to 0.0 in labels with no predicted samples. Use `zero_division` parameter to control this behavior.\n",
      "  _warn_prf(average, modifier, msg_start, len(result))\n",
      "C:\\Users\\hp\\anaconda3\\lib\\site-packages\\sklearn\\metrics\\_classification.py:1248: UndefinedMetricWarning: Precision and F-score are ill-defined and being set to 0.0 in labels with no predicted samples. Use `zero_division` parameter to control this behavior.\n",
      "  _warn_prf(average, modifier, msg_start, len(result))\n",
      "C:\\Users\\hp\\anaconda3\\lib\\site-packages\\sklearn\\metrics\\_classification.py:1248: UndefinedMetricWarning: Precision and F-score are ill-defined and being set to 0.0 in labels with no predicted samples. Use `zero_division` parameter to control this behavior.\n",
      "  _warn_prf(average, modifier, msg_start, len(result))\n"
     ]
    }
   ],
   "source": [
    "from sklearn.metrics import classification_report\n",
    "print(classification_report(y_test, y_pred))"
   ]
  },
  {
   "cell_type": "code",
   "execution_count": null,
   "metadata": {},
   "outputs": [],
   "source": []
  }
 ],
 "metadata": {
  "colab": {
   "collapsed_sections": [],
   "machine_shape": "hm",
   "name": "knn.ipynb",
   "provenance": []
  },
  "kernelspec": {
   "display_name": "Python 3 (ipykernel)",
   "language": "python",
   "name": "python3"
  },
  "language_info": {
   "codemirror_mode": {
    "name": "ipython",
    "version": 3
   },
   "file_extension": ".py",
   "mimetype": "text/x-python",
   "name": "python",
   "nbconvert_exporter": "python",
   "pygments_lexer": "ipython3",
   "version": "3.9.7"
  }
 },
 "nbformat": 4,
 "nbformat_minor": 1
}
