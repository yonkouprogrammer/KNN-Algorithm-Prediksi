{
 "cells": [
  {
   "cell_type": "markdown",
   "metadata": {
    "colab_type": "text",
    "id": "0MRC0e0KhQ0S"
   },
   "source": [
    "# K-Nearest Neighbors (K-NN)\n",
    "## Prediksi K = 7"
   ]
  },
  {
   "cell_type": "markdown",
   "metadata": {
    "colab_type": "text",
    "id": "LWd1UlMnhT2s"
   },
   "source": [
    "## Importing the libraries"
   ]
  },
  {
   "cell_type": "code",
   "execution_count": 20,
   "metadata": {
    "colab": {},
    "colab_type": "code",
    "id": "YvGPUQaHhXfL"
   },
   "outputs": [],
   "source": [
    "import numpy as np\n",
    "import matplotlib.pyplot as plt\n",
    "import pandas as pd"
   ]
  },
  {
   "cell_type": "markdown",
   "metadata": {
    "colab_type": "text",
    "id": "K1VMqkGvhc3-"
   },
   "source": [
    "## Importing the dataset"
   ]
  },
  {
   "cell_type": "code",
   "execution_count": 26,
   "metadata": {
    "colab": {},
    "colab_type": "code",
    "id": "M52QDmyzhh9s"
   },
   "outputs": [],
   "source": [
    "dataset = pd.read_csv('training.csv')"
   ]
  },
  {
   "cell_type": "code",
   "execution_count": 27,
   "metadata": {},
   "outputs": [
    {
     "data": {
      "text/html": [
       "<div>\n",
       "<style scoped>\n",
       "    .dataframe tbody tr th:only-of-type {\n",
       "        vertical-align: middle;\n",
       "    }\n",
       "\n",
       "    .dataframe tbody tr th {\n",
       "        vertical-align: top;\n",
       "    }\n",
       "\n",
       "    .dataframe thead th {\n",
       "        text-align: right;\n",
       "    }\n",
       "</style>\n",
       "<table border=\"1\" class=\"dataframe\">\n",
       "  <thead>\n",
       "    <tr style=\"text-align: right;\">\n",
       "      <th></th>\n",
       "      <th>sks1</th>\n",
       "      <th>sks2</th>\n",
       "      <th>sks3</th>\n",
       "      <th>sks4</th>\n",
       "      <th>sks5</th>\n",
       "      <th>sks6</th>\n",
       "      <th>sks7</th>\n",
       "      <th>sks8</th>\n",
       "      <th>ips1</th>\n",
       "      <th>ips2</th>\n",
       "      <th>...</th>\n",
       "      <th>ips8</th>\n",
       "      <th>ipk1</th>\n",
       "      <th>ipk2</th>\n",
       "      <th>ipk3</th>\n",
       "      <th>ipk4</th>\n",
       "      <th>ipk5</th>\n",
       "      <th>ipk6</th>\n",
       "      <th>ipk7</th>\n",
       "      <th>ipk8</th>\n",
       "      <th>label</th>\n",
       "    </tr>\n",
       "  </thead>\n",
       "  <tbody>\n",
       "    <tr>\n",
       "      <th>0</th>\n",
       "      <td>19</td>\n",
       "      <td>21</td>\n",
       "      <td>18</td>\n",
       "      <td>23</td>\n",
       "      <td>21</td>\n",
       "      <td>17</td>\n",
       "      <td>20</td>\n",
       "      <td>8</td>\n",
       "      <td>3.53</td>\n",
       "      <td>3.90</td>\n",
       "      <td>...</td>\n",
       "      <td>4.0</td>\n",
       "      <td>3.53</td>\n",
       "      <td>3.75</td>\n",
       "      <td>3.59</td>\n",
       "      <td>3.56</td>\n",
       "      <td>3.59</td>\n",
       "      <td>3.60</td>\n",
       "      <td>3.48</td>\n",
       "      <td>3.5</td>\n",
       "      <td>TERLAMBAT</td>\n",
       "    </tr>\n",
       "    <tr>\n",
       "      <th>1</th>\n",
       "      <td>19</td>\n",
       "      <td>21</td>\n",
       "      <td>18</td>\n",
       "      <td>23</td>\n",
       "      <td>21</td>\n",
       "      <td>17</td>\n",
       "      <td>20</td>\n",
       "      <td>8</td>\n",
       "      <td>3.47</td>\n",
       "      <td>3.76</td>\n",
       "      <td>...</td>\n",
       "      <td>4.0</td>\n",
       "      <td>3.47</td>\n",
       "      <td>3.63</td>\n",
       "      <td>3.57</td>\n",
       "      <td>3.54</td>\n",
       "      <td>3.60</td>\n",
       "      <td>3.59</td>\n",
       "      <td>3.47</td>\n",
       "      <td>3.49</td>\n",
       "      <td>TERLAMBAT</td>\n",
       "    </tr>\n",
       "    <tr>\n",
       "      <th>2</th>\n",
       "      <td>19</td>\n",
       "      <td>21</td>\n",
       "      <td>18</td>\n",
       "      <td>23</td>\n",
       "      <td>21</td>\n",
       "      <td>17</td>\n",
       "      <td>20</td>\n",
       "      <td>8</td>\n",
       "      <td>3.21</td>\n",
       "      <td>3.14</td>\n",
       "      <td>...</td>\n",
       "      <td>4.0</td>\n",
       "      <td>3.21</td>\n",
       "      <td>3.14</td>\n",
       "      <td>3.17</td>\n",
       "      <td>3.19</td>\n",
       "      <td>3.22</td>\n",
       "      <td>3.17</td>\n",
       "      <td>3.1</td>\n",
       "      <td>3.13</td>\n",
       "      <td>TERLAMBAT</td>\n",
       "    </tr>\n",
       "    <tr>\n",
       "      <th>3</th>\n",
       "      <td>19</td>\n",
       "      <td>21</td>\n",
       "      <td>18</td>\n",
       "      <td>23</td>\n",
       "      <td>21</td>\n",
       "      <td>17</td>\n",
       "      <td>20</td>\n",
       "      <td>8</td>\n",
       "      <td>3.21</td>\n",
       "      <td>3.14</td>\n",
       "      <td>...</td>\n",
       "      <td>4.0</td>\n",
       "      <td>3.21</td>\n",
       "      <td>3.18</td>\n",
       "      <td>3.07</td>\n",
       "      <td>3.19</td>\n",
       "      <td>3.22</td>\n",
       "      <td>3.17</td>\n",
       "      <td>3.1</td>\n",
       "      <td>3'13</td>\n",
       "      <td>TERLAMBAT</td>\n",
       "    </tr>\n",
       "    <tr>\n",
       "      <th>4</th>\n",
       "      <td>19</td>\n",
       "      <td>21</td>\n",
       "      <td>18</td>\n",
       "      <td>23</td>\n",
       "      <td>21</td>\n",
       "      <td>17</td>\n",
       "      <td>20</td>\n",
       "      <td>8</td>\n",
       "      <td>3.58</td>\n",
       "      <td>3.33</td>\n",
       "      <td>...</td>\n",
       "      <td>4.0</td>\n",
       "      <td>3.58</td>\n",
       "      <td>3.45</td>\n",
       "      <td>3.45</td>\n",
       "      <td>3.46</td>\n",
       "      <td>3.51</td>\n",
       "      <td>3.51</td>\n",
       "      <td>3.51</td>\n",
       "      <td>3.43</td>\n",
       "      <td>TERLAMBAT</td>\n",
       "    </tr>\n",
       "  </tbody>\n",
       "</table>\n",
       "<p>5 rows × 25 columns</p>\n",
       "</div>"
      ],
      "text/plain": [
       "   sks1  sks2  sks3  sks4  sks5  sks6  sks7  sks8  ips1  ips2  ...  ips8  \\\n",
       "0    19    21    18    23    21    17    20     8  3.53  3.90  ...   4.0   \n",
       "1    19    21    18    23    21    17    20     8  3.47  3.76  ...   4.0   \n",
       "2    19    21    18    23    21    17    20     8  3.21  3.14  ...   4.0   \n",
       "3    19    21    18    23    21    17    20     8  3.21  3.14  ...   4.0   \n",
       "4    19    21    18    23    21    17    20     8  3.58  3.33  ...   4.0   \n",
       "\n",
       "   ipk1  ipk2  ipk3  ipk4  ipk5  ipk6  ipk7  ipk8      label  \n",
       "0  3.53  3.75  3.59  3.56  3.59  3.60  3.48   3.5  TERLAMBAT  \n",
       "1  3.47  3.63  3.57  3.54  3.60  3.59  3.47  3.49  TERLAMBAT  \n",
       "2  3.21  3.14  3.17  3.19  3.22  3.17   3.1  3.13  TERLAMBAT  \n",
       "3  3.21  3.18  3.07  3.19  3.22  3.17   3.1  3'13  TERLAMBAT  \n",
       "4  3.58  3.45  3.45  3.46  3.51  3.51  3.51  3.43  TERLAMBAT  \n",
       "\n",
       "[5 rows x 25 columns]"
      ]
     },
     "execution_count": 27,
     "metadata": {},
     "output_type": "execute_result"
    }
   ],
   "source": [
    "dataset.head(5)"
   ]
  },
  {
   "cell_type": "code",
   "execution_count": 28,
   "metadata": {},
   "outputs": [
    {
     "data": {
      "text/html": [
       "<div>\n",
       "<style scoped>\n",
       "    .dataframe tbody tr th:only-of-type {\n",
       "        vertical-align: middle;\n",
       "    }\n",
       "\n",
       "    .dataframe tbody tr th {\n",
       "        vertical-align: top;\n",
       "    }\n",
       "\n",
       "    .dataframe thead th {\n",
       "        text-align: right;\n",
       "    }\n",
       "</style>\n",
       "<table border=\"1\" class=\"dataframe\">\n",
       "  <thead>\n",
       "    <tr style=\"text-align: right;\">\n",
       "      <th></th>\n",
       "      <th>sks1</th>\n",
       "      <th>sks2</th>\n",
       "      <th>sks3</th>\n",
       "      <th>sks4</th>\n",
       "      <th>sks5</th>\n",
       "      <th>sks6</th>\n",
       "      <th>sks7</th>\n",
       "      <th>sks8</th>\n",
       "      <th>ips1</th>\n",
       "      <th>ips2</th>\n",
       "      <th>...</th>\n",
       "      <th>ipk3</th>\n",
       "      <th>ipk4</th>\n",
       "      <th>ipk5</th>\n",
       "      <th>ipk6</th>\n",
       "      <th>ipk7</th>\n",
       "      <th>ipk8</th>\n",
       "      <th>kerja</th>\n",
       "      <th>nikah</th>\n",
       "      <th>organisasi</th>\n",
       "      <th>label</th>\n",
       "    </tr>\n",
       "  </thead>\n",
       "  <tbody>\n",
       "    <tr>\n",
       "      <th>0</th>\n",
       "      <td>19</td>\n",
       "      <td>21</td>\n",
       "      <td>18</td>\n",
       "      <td>23</td>\n",
       "      <td>21</td>\n",
       "      <td>17</td>\n",
       "      <td>20</td>\n",
       "      <td>8</td>\n",
       "      <td>3.53</td>\n",
       "      <td>3.90</td>\n",
       "      <td>...</td>\n",
       "      <td>3.59</td>\n",
       "      <td>3.56</td>\n",
       "      <td>3.59</td>\n",
       "      <td>3.60</td>\n",
       "      <td>3.48</td>\n",
       "      <td>3.50</td>\n",
       "      <td>KERJA</td>\n",
       "      <td>SUDAH</td>\n",
       "      <td>IYA</td>\n",
       "      <td>TERLAMBAT</td>\n",
       "    </tr>\n",
       "    <tr>\n",
       "      <th>1</th>\n",
       "      <td>19</td>\n",
       "      <td>21</td>\n",
       "      <td>18</td>\n",
       "      <td>23</td>\n",
       "      <td>21</td>\n",
       "      <td>17</td>\n",
       "      <td>20</td>\n",
       "      <td>8</td>\n",
       "      <td>3.47</td>\n",
       "      <td>3.76</td>\n",
       "      <td>...</td>\n",
       "      <td>3.57</td>\n",
       "      <td>3.54</td>\n",
       "      <td>3.60</td>\n",
       "      <td>3.59</td>\n",
       "      <td>3.47</td>\n",
       "      <td>3.49</td>\n",
       "      <td>IYA</td>\n",
       "      <td>SUDAH</td>\n",
       "      <td>IYA</td>\n",
       "      <td>TERLAMBAT</td>\n",
       "    </tr>\n",
       "    <tr>\n",
       "      <th>2</th>\n",
       "      <td>19</td>\n",
       "      <td>21</td>\n",
       "      <td>18</td>\n",
       "      <td>23</td>\n",
       "      <td>21</td>\n",
       "      <td>17</td>\n",
       "      <td>20</td>\n",
       "      <td>8</td>\n",
       "      <td>3.21</td>\n",
       "      <td>3.14</td>\n",
       "      <td>...</td>\n",
       "      <td>3.17</td>\n",
       "      <td>3.19</td>\n",
       "      <td>3.22</td>\n",
       "      <td>3.17</td>\n",
       "      <td>3.10</td>\n",
       "      <td>3.13</td>\n",
       "      <td>BELUM</td>\n",
       "      <td>SUDAH</td>\n",
       "      <td>IYA</td>\n",
       "      <td>TERLAMBAT</td>\n",
       "    </tr>\n",
       "    <tr>\n",
       "      <th>3</th>\n",
       "      <td>19</td>\n",
       "      <td>21</td>\n",
       "      <td>18</td>\n",
       "      <td>23</td>\n",
       "      <td>21</td>\n",
       "      <td>17</td>\n",
       "      <td>20</td>\n",
       "      <td>8</td>\n",
       "      <td>3.21</td>\n",
       "      <td>3.14</td>\n",
       "      <td>...</td>\n",
       "      <td>3.07</td>\n",
       "      <td>3.19</td>\n",
       "      <td>3.22</td>\n",
       "      <td>3.17</td>\n",
       "      <td>3.10</td>\n",
       "      <td>3.13</td>\n",
       "      <td>IYA</td>\n",
       "      <td>BELUM</td>\n",
       "      <td>TIDAK</td>\n",
       "      <td>TERLAMBAT</td>\n",
       "    </tr>\n",
       "    <tr>\n",
       "      <th>4</th>\n",
       "      <td>19</td>\n",
       "      <td>21</td>\n",
       "      <td>18</td>\n",
       "      <td>23</td>\n",
       "      <td>21</td>\n",
       "      <td>17</td>\n",
       "      <td>20</td>\n",
       "      <td>8</td>\n",
       "      <td>3.58</td>\n",
       "      <td>3.33</td>\n",
       "      <td>...</td>\n",
       "      <td>3.45</td>\n",
       "      <td>3.46</td>\n",
       "      <td>3.51</td>\n",
       "      <td>3.51</td>\n",
       "      <td>3.51</td>\n",
       "      <td>3.43</td>\n",
       "      <td>BELUM</td>\n",
       "      <td>SUDAH</td>\n",
       "      <td>TIDAK</td>\n",
       "      <td>TERLAMBAT</td>\n",
       "    </tr>\n",
       "  </tbody>\n",
       "</table>\n",
       "<p>5 rows × 28 columns</p>\n",
       "</div>"
      ],
      "text/plain": [
       "   sks1  sks2  sks3  sks4  sks5  sks6  sks7  sks8  ips1  ips2  ...  ipk3  \\\n",
       "0    19    21    18    23    21    17    20     8  3.53  3.90  ...  3.59   \n",
       "1    19    21    18    23    21    17    20     8  3.47  3.76  ...  3.57   \n",
       "2    19    21    18    23    21    17    20     8  3.21  3.14  ...  3.17   \n",
       "3    19    21    18    23    21    17    20     8  3.21  3.14  ...  3.07   \n",
       "4    19    21    18    23    21    17    20     8  3.58  3.33  ...  3.45   \n",
       "\n",
       "   ipk4  ipk5  ipk6  ipk7  ipk8  kerja  nikah  organisasi      label  \n",
       "0  3.56  3.59  3.60  3.48  3.50  KERJA  SUDAH         IYA  TERLAMBAT  \n",
       "1  3.54  3.60  3.59  3.47  3.49    IYA  SUDAH         IYA  TERLAMBAT  \n",
       "2  3.19  3.22  3.17  3.10  3.13  BELUM  SUDAH         IYA  TERLAMBAT  \n",
       "3  3.19  3.22  3.17  3.10  3.13    IYA  BELUM       TIDAK  TERLAMBAT  \n",
       "4  3.46  3.51  3.51  3.51  3.43  BELUM  SUDAH       TIDAK  TERLAMBAT  \n",
       "\n",
       "[5 rows x 28 columns]"
      ]
     },
     "execution_count": 28,
     "metadata": {},
     "output_type": "execute_result"
    }
   ],
   "source": [
    "df = pd.read_csv('training_data.csv')\n",
    "\n",
    "df.head(5)"
   ]
  },
  {
   "cell_type": "code",
   "execution_count": 29,
   "metadata": {},
   "outputs": [
    {
     "data": {
      "text/html": [
       "<div>\n",
       "<style scoped>\n",
       "    .dataframe tbody tr th:only-of-type {\n",
       "        vertical-align: middle;\n",
       "    }\n",
       "\n",
       "    .dataframe tbody tr th {\n",
       "        vertical-align: top;\n",
       "    }\n",
       "\n",
       "    .dataframe thead th {\n",
       "        text-align: right;\n",
       "    }\n",
       "</style>\n",
       "<table border=\"1\" class=\"dataframe\">\n",
       "  <thead>\n",
       "    <tr style=\"text-align: right;\">\n",
       "      <th></th>\n",
       "      <th>sks1</th>\n",
       "      <th>sks2</th>\n",
       "      <th>sks3</th>\n",
       "      <th>sks4</th>\n",
       "      <th>sks5</th>\n",
       "      <th>sks6</th>\n",
       "      <th>sks7</th>\n",
       "      <th>sks8</th>\n",
       "      <th>ips1</th>\n",
       "      <th>ips2</th>\n",
       "      <th>...</th>\n",
       "      <th>ipk3</th>\n",
       "      <th>ipk4</th>\n",
       "      <th>ipk5</th>\n",
       "      <th>ipk6</th>\n",
       "      <th>ipk7</th>\n",
       "      <th>ipk8</th>\n",
       "      <th>kerja</th>\n",
       "      <th>nikah</th>\n",
       "      <th>organisasi</th>\n",
       "      <th>label</th>\n",
       "    </tr>\n",
       "  </thead>\n",
       "  <tbody>\n",
       "    <tr>\n",
       "      <th>0</th>\n",
       "      <td>19</td>\n",
       "      <td>21</td>\n",
       "      <td>18</td>\n",
       "      <td>23</td>\n",
       "      <td>21</td>\n",
       "      <td>17</td>\n",
       "      <td>20</td>\n",
       "      <td>8</td>\n",
       "      <td>3.53</td>\n",
       "      <td>3.90</td>\n",
       "      <td>...</td>\n",
       "      <td>3.59</td>\n",
       "      <td>3.56</td>\n",
       "      <td>3.59</td>\n",
       "      <td>3.60</td>\n",
       "      <td>3.48</td>\n",
       "      <td>3.50</td>\n",
       "      <td>2</td>\n",
       "      <td>1</td>\n",
       "      <td>0</td>\n",
       "      <td>1</td>\n",
       "    </tr>\n",
       "    <tr>\n",
       "      <th>1</th>\n",
       "      <td>19</td>\n",
       "      <td>21</td>\n",
       "      <td>18</td>\n",
       "      <td>23</td>\n",
       "      <td>21</td>\n",
       "      <td>17</td>\n",
       "      <td>20</td>\n",
       "      <td>8</td>\n",
       "      <td>3.47</td>\n",
       "      <td>3.76</td>\n",
       "      <td>...</td>\n",
       "      <td>3.57</td>\n",
       "      <td>3.54</td>\n",
       "      <td>3.60</td>\n",
       "      <td>3.59</td>\n",
       "      <td>3.47</td>\n",
       "      <td>3.49</td>\n",
       "      <td>1</td>\n",
       "      <td>1</td>\n",
       "      <td>0</td>\n",
       "      <td>1</td>\n",
       "    </tr>\n",
       "    <tr>\n",
       "      <th>2</th>\n",
       "      <td>19</td>\n",
       "      <td>21</td>\n",
       "      <td>18</td>\n",
       "      <td>23</td>\n",
       "      <td>21</td>\n",
       "      <td>17</td>\n",
       "      <td>20</td>\n",
       "      <td>8</td>\n",
       "      <td>3.21</td>\n",
       "      <td>3.14</td>\n",
       "      <td>...</td>\n",
       "      <td>3.17</td>\n",
       "      <td>3.19</td>\n",
       "      <td>3.22</td>\n",
       "      <td>3.17</td>\n",
       "      <td>3.10</td>\n",
       "      <td>3.13</td>\n",
       "      <td>0</td>\n",
       "      <td>1</td>\n",
       "      <td>0</td>\n",
       "      <td>1</td>\n",
       "    </tr>\n",
       "    <tr>\n",
       "      <th>3</th>\n",
       "      <td>19</td>\n",
       "      <td>21</td>\n",
       "      <td>18</td>\n",
       "      <td>23</td>\n",
       "      <td>21</td>\n",
       "      <td>17</td>\n",
       "      <td>20</td>\n",
       "      <td>8</td>\n",
       "      <td>3.21</td>\n",
       "      <td>3.14</td>\n",
       "      <td>...</td>\n",
       "      <td>3.07</td>\n",
       "      <td>3.19</td>\n",
       "      <td>3.22</td>\n",
       "      <td>3.17</td>\n",
       "      <td>3.10</td>\n",
       "      <td>3.13</td>\n",
       "      <td>1</td>\n",
       "      <td>0</td>\n",
       "      <td>1</td>\n",
       "      <td>1</td>\n",
       "    </tr>\n",
       "    <tr>\n",
       "      <th>4</th>\n",
       "      <td>19</td>\n",
       "      <td>21</td>\n",
       "      <td>18</td>\n",
       "      <td>23</td>\n",
       "      <td>21</td>\n",
       "      <td>17</td>\n",
       "      <td>20</td>\n",
       "      <td>8</td>\n",
       "      <td>3.58</td>\n",
       "      <td>3.33</td>\n",
       "      <td>...</td>\n",
       "      <td>3.45</td>\n",
       "      <td>3.46</td>\n",
       "      <td>3.51</td>\n",
       "      <td>3.51</td>\n",
       "      <td>3.51</td>\n",
       "      <td>3.43</td>\n",
       "      <td>0</td>\n",
       "      <td>1</td>\n",
       "      <td>1</td>\n",
       "      <td>1</td>\n",
       "    </tr>\n",
       "  </tbody>\n",
       "</table>\n",
       "<p>5 rows × 28 columns</p>\n",
       "</div>"
      ],
      "text/plain": [
       "   sks1  sks2  sks3  sks4  sks5  sks6  sks7  sks8  ips1  ips2  ...  ipk3  \\\n",
       "0    19    21    18    23    21    17    20     8  3.53  3.90  ...  3.59   \n",
       "1    19    21    18    23    21    17    20     8  3.47  3.76  ...  3.57   \n",
       "2    19    21    18    23    21    17    20     8  3.21  3.14  ...  3.17   \n",
       "3    19    21    18    23    21    17    20     8  3.21  3.14  ...  3.07   \n",
       "4    19    21    18    23    21    17    20     8  3.58  3.33  ...  3.45   \n",
       "\n",
       "   ipk4  ipk5  ipk6  ipk7  ipk8  kerja  nikah  organisasi  label  \n",
       "0  3.56  3.59  3.60  3.48  3.50      2      1           0      1  \n",
       "1  3.54  3.60  3.59  3.47  3.49      1      1           0      1  \n",
       "2  3.19  3.22  3.17  3.10  3.13      0      1           0      1  \n",
       "3  3.19  3.22  3.17  3.10  3.13      1      0           1      1  \n",
       "4  3.46  3.51  3.51  3.51  3.43      0      1           1      1  \n",
       "\n",
       "[5 rows x 28 columns]"
      ]
     },
     "execution_count": 29,
     "metadata": {},
     "output_type": "execute_result"
    }
   ],
   "source": [
    "from sklearn.preprocessing import LabelEncoder\n",
    "\n",
    "labelencoder = LabelEncoder()\n",
    "df['kerja'] = labelencoder.fit_transform(df['kerja'])\n",
    "df['nikah'] = labelencoder.fit_transform(df['nikah'])\n",
    "df['organisasi'] = labelencoder.fit_transform(df['organisasi'])\n",
    "df['label'] = labelencoder.fit_transform(df['label'])\n",
    "\n",
    "# Tampilkan Data\n",
    "df.head(5)"
   ]
  },
  {
   "cell_type": "markdown",
   "metadata": {
    "colab_type": "text",
    "id": "YvxIPVyMhmKp"
   },
   "source": [
    "## Splitting the dataset into the Training set and Test set"
   ]
  },
  {
   "cell_type": "code",
   "execution_count": 30,
   "metadata": {},
   "outputs": [],
   "source": [
    "X = df.iloc[:, :-1].values\n",
    "y = df.iloc[:, -1].values"
   ]
  },
  {
   "cell_type": "code",
   "execution_count": 31,
   "metadata": {
    "colab": {},
    "colab_type": "code",
    "id": "AVzJWAXIhxoC"
   },
   "outputs": [],
   "source": [
    "from sklearn.model_selection import train_test_split\n",
    "X_train, X_test, y_train, y_test = train_test_split(X, y, test_size = 0.25, random_state = 0)"
   ]
  },
  {
   "cell_type": "code",
   "execution_count": 32,
   "metadata": {
    "colab": {
     "base_uri": "https://localhost:8080/",
     "height": 1000
    },
    "colab_type": "code",
    "executionInfo": {
     "elapsed": 2393,
     "status": "ok",
     "timestamp": 1588492962259,
     "user": {
      "displayName": "Hadelin de Ponteves",
      "photoUrl": "https://lh3.googleusercontent.com/a-/AOh14GhEuXdT7eQweUmRPW8_laJuPggSK6hfvpl5a6WBaA=s64",
      "userId": "15047218817161520419"
     },
     "user_tz": -240
    },
    "id": "P3nS3-6r1i2B",
    "outputId": "2972f900-ae1f-493b-9097-11ab9314d030"
   },
   "outputs": [
    {
     "name": "stdout",
     "output_type": "stream",
     "text": [
      "[[20.   22.   22.   22.   23.   23.   14.   14.    3.55  3.77  3.77  4.\n",
      "   3.74  3.43  3.49  3.55  3.55  3.63  3.66  3.73  3.73  3.73  3.71  3.5\n",
      "   0.    0.    0.  ]\n",
      " [22.   24.   23.   23.   24.   20.   11.    6.    3.73  3.79  3.74  3.65\n",
      "   4.    3.53  2.8   4.    3.73  3.76  3.75  3.73  3.82  3.82  2.16  3.79\n",
      "   0.    0.    0.  ]\n",
      " [19.   21.   18.   23.   21.   17.   20.    8.    3.21  3.14  3.17  3.22\n",
      "   3.33  3.28  2.7   4.    3.21  3.14  3.17  3.19  3.22  3.17  3.1   3.13\n",
      "   0.    1.    0.  ]\n",
      " [19.   21.   18.   23.   21.   17.   20.    4.    3.32  2.9   2.94  3.22\n",
      "   3.33  2.53  1.85  4.    3.32  3.1   3.05  3.1   3.15  3.06  2.88  2.92\n",
      "   0.    0.    0.  ]\n",
      " [19.   21.   18.   23.   21.   17.   20.    8.    2.74  3.19  3.17  3.22\n",
      "   3.52  2.88  2.7   4.    2.74  2.98  3.03  3.18  3.09  3.13  3.07  3.12\n",
      "   0.    0.    0.  ]\n",
      " [19.   21.   18.   23.   21.   17.   20.    8.    3.47  3.52  3.    3.32\n",
      "   3.24  2.88  2.7   4.    3.47  3.5   3.34  3.31  3.29  3.24  3.16  3.2\n",
      "   1.    0.    0.  ]\n",
      " [19.   21.   18.   23.   21.   17.   20.    8.    3.26  3.76  3.11  3.48\n",
      "   3.71  3.53  2.8   4.    3.26  3.76  3.4   3.42  3.48  3.49  3.39  3.41\n",
      "   0.    0.    0.  ]\n",
      " [19.   21.   18.   23.   21.   17.   20.    8.    3.11  2.86  3.11  3.35\n",
      "   3.    2.29  2.3   4.    3.11  3.98  3.02  3.11  3.09  2.97  2.88  2.91\n",
      "   0.    0.    0.  ]\n",
      " [19.   21.   18.   23.   21.   17.   20.    8.    2.63  2.81  2.94  3.22\n",
      "   3.33  3.06  3.15  4.    2.63  2.73  2.79  2.91  3.    3.01  3.03  3.08\n",
      "   1.    0.    1.  ]\n",
      " [20.   22.   22.   22.   23.   23.   14.   14.    3.6   3.73  3.59  3.86\n",
      "   3.78  3.74  3.43  4.    3.6   3.67  3.64  3.7   3.72  3.72  3.69  3.86\n",
      "   0.    0.    0.  ]\n",
      " [21.   22.   22.   22.   23.   21.   17.    6.    4.    3.91  3.73  3.91\n",
      "   4.    3.9   3.82  4.    4.    3.95  3.88  3.89  3.91  3.91  3.92  3.9\n",
      "   0.    1.    2.  ]\n",
      " [19.   21.   18.   23.   21.   17.   20.    4.    3.58  3.52  3.11  3.35\n",
      "   3.48  3.53  2.8   4.    3.58  3.55  3.41  3.4   3.41  3.43  3.34  3.36\n",
      "   0.    0.    0.  ]\n",
      " [19.   21.   18.   23.   21.   17.   20.    8.    3.37  3.19  3.11  3.35\n",
      "   3.71  3.35  3.15  4.    3.37  3.28  3.22  3.26  3.35  3.35  3.32  3.36\n",
      "   0.    0.    1.  ]\n",
      " [19.   21.   18.   23.   21.   17.   20.    8.    2.89  2.95  2.94  3.35\n",
      "   3.33  2.88  2.7   4.    2.89  2.93  2.93  3.05  3.11  3.08  3.02  3.07\n",
      "   0.    0.    1.  ]\n",
      " [22.   24.   23.   24.   22.   21.    3.    6.    3.86  4.    3.91  4.\n",
      "   4.    3.71  4.    4.    3.86  3.93  3.93  3.95  3.96  3.91  3.93  3.68\n",
      "   0.    0.    0.  ]\n",
      " [19.   21.   18.   23.   21.   17.   20.    8.    3.32  3.14  3.28  3.09\n",
      "   3.52  3.12  2.8   4.    3.32  3.23  3.24  3.2   3.26  3.24  3.18  3.2\n",
      "   0.    1.    1.  ]\n",
      " [19.   21.   18.   23.   21.   17.   20.    8.    2.84  3.1   2.72  3.35\n",
      "   3.38  3.    2.7   4.    2.84  2.98  2.9   3.02  3.1   3.08  3.03  3.08\n",
      "   1.    0.    1.  ]\n",
      " [22.   24.   23.   21.   24.   21.    7.    6.    3.55  3.46  3.82  3.57\n",
      "   4.    4.    3.5   4.    3.55  3.5   3.6   3.59  3.68  3.73  3.86  4.\n",
      "   0.    0.    0.  ]\n",
      " [19.   21.   18.   23.   21.   17.   20.    8.    3.11  2.95  2.83  3.22\n",
      "   3.33  2.71  2.7   4.    3.11  3.03  2.97  3.04  3.1   3.04  2.99  3.05\n",
      "   1.    0.    0.  ]\n",
      " [22.   24.   23.   24.   22.   20.    2.    6.    3.82  3.46  3.74  3.67\n",
      "   4.    3.85  4.    4.    3.95  3.82  3.63  3.67  3.67  3.73  3.75  3.89\n",
      "   0.    0.    0.  ]\n",
      " [19.   21.   18.   23.   21.   17.   20.    8.    3.47  3.76  3.44  3.48\n",
      "   3.81  3.53  2.8   4.    3.47  3.63  3.57  3.54  3.6   3.59  3.47  3.49\n",
      "   1.    1.    0.  ]\n",
      " [19.   21.   18.   23.   21.   17.   20.    8.    3.05  2.81  3.11  3.35\n",
      "   3.63  3.    2.7   4.    3.05  2.93  2.98  3.09  3.2   3.17  3.1   3.15\n",
      "   0.    1.    1.  ]\n",
      " [20.   22.   22.   22.   23.   24.   14.   14.    3.45  3.55  3.82  3.86\n",
      "   4.    4.    3.43  4.    3.45  3.5   3.61  3.67  3.74  3.79  3.76  3.82\n",
      "   0.    0.    0.  ]\n",
      " [20.   22.   22.   22.   23.   24.   14.    6.    3.65  3.68  3.68  4.\n",
      "   4.    4.    3.79  4.    3.65  3.67  3.67  3.76  3.81  3.84  3.84  3.69\n",
      "   0.    0.    0.  ]\n",
      " [19.   21.   18.   23.   21.   17.   20.    8.    3.05  2.81  2.94  3.\n",
      "   3.33  2.94  2.7   4.    3.05  2.93  2.93  2.95  3.03  3.02  2.97  3.03\n",
      "   0.    0.    0.  ]\n",
      " [22.   24.   20.   24.   23.   21.   16.    6.    3.5   3.38  3.8   3.42\n",
      "   3.57  3.57  3.52  4.    3.83  3.43  3.55  3.51  3.52  3.53  3.48  4.\n",
      "   0.    0.    0.  ]\n",
      " [22.   24.   22.   21.   24.   21.    9.    6.    3.95  3.92  4.    3.81\n",
      "   4.    4.    4.    3.95  3.93  3.96  3.92  3.94  3.95  3.95  3.93  3.97\n",
      "   0.    0.    0.  ]\n",
      " [19.   21.   18.   23.   21.   17.   20.    4.    3.33  3.    3.09  3.1\n",
      "   3.76  2.7   4.    3.42  3.42  3.38  3.26  3.21  3.19  3.13  3.06  3.09\n",
      "   0.    1.    1.  ]\n",
      " [19.   21.   18.   23.   21.   17.   20.    8.    2.63  2.76  3.11  3.48\n",
      "   3.62  3.29  2.8   4.    2.63  2.7   2.83  3.01  3.14  3.16  3.11  3.13\n",
      "   1.    0.    0.  ]\n",
      " [19.   21.   18.   23.   21.   17.   20.    8.    3.53  3.14  3.11  3.48\n",
      "   3.71  3.41  3.05  4.    3.53  3.33  3.26  3.32  3.4   3.4   3.35  3.39\n",
      "   0.    1.    0.  ]\n",
      " [22.   24.   23.   24.   22.   21.    9.    6.    3.82  3.88  3.83  3.67\n",
      "   3.91  3.71  4.    4.    3.82  3.85  3.84  3.8   3.82  3.8   3.92  3.8\n",
      "   0.    0.    0.  ]\n",
      " [22.   24.   23.   24.   19.   21.    5.    6.    3.82  3.75  3.74  3.63\n",
      "   3.84  4.    3.33  4.    3.82  3.78  3.77  3.73  3.75  3.79  2.75  3.93\n",
      "   0.    0.    0.  ]\n",
      " [19.   21.   18.   23.   21.   17.   20.    8.    3.21  3.14  3.17  3.22\n",
      "   3.33  2.88  2.7   4.    3.21  3.18  3.07  3.19  3.22  3.17  3.1   3.13\n",
      "   1.    0.    1.  ]\n",
      " [19.   21.   18.   23.   21.   17.   20.    8.    3.53  3.9   3.28  3.48\n",
      "   3.71  3.63  2.8   4.    3.53  3.75  3.59  3.56  3.59  3.6   3.48  3.5\n",
      "   2.    1.    0.  ]\n",
      " [19.   21.   18.   23.   21.   17.   20.    4.    3.26  3.48  3.39  3.22\n",
      "   3.67  3.35  3.15  4.    3.26  3.48  3.38  3.33  3.4   3.39  3.36  3.3\n",
      "   0.    0.    0.  ]\n",
      " [22.   24.   20.   21.   24.   21.    6.    6.    3.77  3.92  4.    3.9\n",
      "   4.    3.86  4.    4.    3.77  3.85  3.89  3.9   3.92  3.91  2.87  4.\n",
      "   0.    0.    0.  ]]\n"
     ]
    }
   ],
   "source": [
    "print(X_train)"
   ]
  },
  {
   "cell_type": "code",
   "execution_count": 33,
   "metadata": {
    "colab": {
     "base_uri": "https://localhost:8080/",
     "height": 171
    },
    "colab_type": "code",
    "executionInfo": {
     "elapsed": 2386,
     "status": "ok",
     "timestamp": 1588492962260,
     "user": {
      "displayName": "Hadelin de Ponteves",
      "photoUrl": "https://lh3.googleusercontent.com/a-/AOh14GhEuXdT7eQweUmRPW8_laJuPggSK6hfvpl5a6WBaA=s64",
      "userId": "15047218817161520419"
     },
     "user_tz": -240
    },
    "id": "8dpDLojm1mVG",
    "outputId": "f2afb6eb-2911-439a-d6b6-9e025bbedc75"
   },
   "outputs": [
    {
     "name": "stdout",
     "output_type": "stream",
     "text": [
      "[1 0 1 1 1 1 0 0 1 1 0 1 1 1 0 1 1 0 1 0 1 1 1 1 1 0 0 0 1 1 0 0 1 1 1 0]\n"
     ]
    }
   ],
   "source": [
    "print(y_train)"
   ]
  },
  {
   "cell_type": "code",
   "execution_count": 34,
   "metadata": {
    "colab": {
     "base_uri": "https://localhost:8080/",
     "height": 1000
    },
    "colab_type": "code",
    "executionInfo": {
     "elapsed": 2381,
     "status": "ok",
     "timestamp": 1588492962260,
     "user": {
      "displayName": "Hadelin de Ponteves",
      "photoUrl": "https://lh3.googleusercontent.com/a-/AOh14GhEuXdT7eQweUmRPW8_laJuPggSK6hfvpl5a6WBaA=s64",
      "userId": "15047218817161520419"
     },
     "user_tz": -240
    },
    "id": "qbb7i0DH1qui",
    "outputId": "54ee7cd4-ffc8-429a-a52c-2ccd4e4d4411"
   },
   "outputs": [
    {
     "name": "stdout",
     "output_type": "stream",
     "text": [
      "[[22.   24.   23.   24.   19.   21.    5.    4.    3.82  3.75  3.91  3.54\n",
      "   3.74  4.    3.85  4.    3.82  3.78  3.83  3.75  3.75  3.79  3.79  3.75\n",
      "   0.    0.    0.  ]\n",
      " [19.   21.   18.   23.   21.   17.   20.    8.    3.58  3.33  3.44  3.48\n",
      "   3.71  3.53  2.8   4.    3.58  3.45  3.45  3.46  3.51  3.51  3.51  3.43\n",
      "   0.    1.    1.  ]\n",
      " [22.   24.   23.   24.   21.   21.    6.    6.    4.    3.88  3.83  3.75\n",
      "   4.    3.86  4.    4.    3.95  3.91  3.83  3.85  3.88  3.87  3.88  3.44\n",
      "   0.    0.    0.  ]\n",
      " [22.   24.   20.   24.   23.   21.   16.    6.    3.46  3.38  3.67  3.68\n",
      "   3.57  3.57  3.52  4.    3.42  3.43  3.55  3.51  3.52  3.53  3.87  3.67\n",
      "   0.    0.    0.  ]\n",
      " [22.   24.   23.   24.   19.   21.    3.    6.    3.68  3.54  3.57  3.79\n",
      "   3.42  3.86  4.    4.    3.68  3.61  3.59  3.65  3.61  3.65  3.65  3.43\n",
      "   0.    0.    0.  ]\n",
      " [22.   24.   22.   21.   24.   21.    3.    6.    3.95  3.92  3.86  3.9\n",
      "   4.    3.86  3.67  4.    3.95  3.93  3.91  3.91  3.93  3.92  2.89  3.76\n",
      "   0.    0.    0.  ]\n",
      " [22.   24.   23.   21.   24.   21.    7.    6.    3.68  3.92  3.83  3.9\n",
      "   4.    4.    3.78  4.    3.68  3.8   3.81  3.83  3.87  3.89  3.86  4.\n",
      "   0.    0.    0.  ]\n",
      " [20.   22.   22.   22.   23.   24.   14.    8.    3.6   3.55  3.41  3.64\n",
      "   3.91  3.75  3.21  4.    3.6   3.57  3.52  3.55  3.62  3.65  3.61  3.68\n",
      "   0.    0.    0.  ]\n",
      " [19.   21.   18.   23.   21.   17.   20.    8.    2.53  2.76  2.83  3.22\n",
      "   3.52  3.    2.7   4.    2.53  2.65  2.71  2.85  2.99  2.99  2.95  3.01\n",
      "   0.    1.    0.  ]\n",
      " [19.   21.   18.   23.   21.   17.   20.    8.    3.42  3.51  3.11  3.35\n",
      "   3.71  3.53  2.8   4.    3.42  3.48  3.36  3.36  3.43  3.45  3.35  3.37\n",
      "   0.    1.    0.  ]\n",
      " [19.   21.   18.   23.   21.   17.   20.    8.    3.21  3.29  3.11  3.26\n",
      "   3.19  2.88  2.76  4.    3.21  3.25  3.21  3.22  3.22  3.17  3.1   3.15\n",
      "   0.    0.    1.  ]\n",
      " [22.   24.   23.   24.   19.   21.    3.    6.    3.82  3.67  3.7   3.54\n",
      "   4.    3.86  4.    4.    3.82  3.74  3.72  3.63  3.73  3.75  3.76  3.78\n",
      "   0.    0.    0.  ]\n",
      " [21.   24.   23.   24.   21.   21.    3.    6.    3.52  3.83  3.61  3.38\n",
      "   3.77  3.86  4.    4.    3.52  3.69  3.66  3.59  3.62  3.66  3.94  3.87\n",
      "   0.    0.    0.  ]]\n"
     ]
    }
   ],
   "source": [
    "print(X_test)"
   ]
  },
  {
   "cell_type": "code",
   "execution_count": 35,
   "metadata": {
    "colab": {
     "base_uri": "https://localhost:8080/",
     "height": 68
    },
    "colab_type": "code",
    "executionInfo": {
     "elapsed": 2375,
     "status": "ok",
     "timestamp": 1588492962260,
     "user": {
      "displayName": "Hadelin de Ponteves",
      "photoUrl": "https://lh3.googleusercontent.com/a-/AOh14GhEuXdT7eQweUmRPW8_laJuPggSK6hfvpl5a6WBaA=s64",
      "userId": "15047218817161520419"
     },
     "user_tz": -240
    },
    "id": "kj1hnFAR1s5w",
    "outputId": "bdc8000b-208d-441b-8a97-a552ebb53fa0"
   },
   "outputs": [
    {
     "name": "stdout",
     "output_type": "stream",
     "text": [
      "[0 1 0 0 0 0 0 0 1 1 1 0 0]\n"
     ]
    }
   ],
   "source": [
    "print(y_test)"
   ]
  },
  {
   "cell_type": "markdown",
   "metadata": {
    "colab_type": "text",
    "id": "kW3c7UYih0hT"
   },
   "source": [
    "## Feature Scaling"
   ]
  },
  {
   "cell_type": "code",
   "execution_count": 36,
   "metadata": {
    "colab": {},
    "colab_type": "code",
    "id": "9fQlDPKCh8sc"
   },
   "outputs": [],
   "source": [
    "from sklearn.preprocessing import StandardScaler\n",
    "sc = StandardScaler()\n",
    "X_train = sc.fit_transform(X_train)\n",
    "X_test = sc.transform(X_test)"
   ]
  },
  {
   "cell_type": "code",
   "execution_count": 37,
   "metadata": {
    "colab": {
     "base_uri": "https://localhost:8080/",
     "height": 1000
    },
    "colab_type": "code",
    "executionInfo": {
     "elapsed": 2367,
     "status": "ok",
     "timestamp": 1588492962261,
     "user": {
      "displayName": "Hadelin de Ponteves",
      "photoUrl": "https://lh3.googleusercontent.com/a-/AOh14GhEuXdT7eQweUmRPW8_laJuPggSK6hfvpl5a6WBaA=s64",
      "userId": "15047218817161520419"
     },
     "user_tz": -240
    },
    "id": "syrnD1Op2BSR",
    "outputId": "721c0899-23c8-42ff-dc5a-d008c774ac78"
   },
   "outputs": [
    {
     "name": "stdout",
     "output_type": "stream",
     "text": [
      "[[ 6.52328073e-02  8.78749550e-02  1.13118733e+00 -1.09108945e+00\n",
      "   1.11182282e+00  1.78146748e+00 -3.77075144e-01  2.74790395e+00\n",
      "   4.51358120e-01  9.66782114e-01  1.07763632e+00  1.83244497e+00\n",
      "   3.04460855e-01  1.45062141e-01  6.46580660e-01 -3.53217042e+00\n",
      "   3.98379179e-01  5.15713729e-01  8.10167941e-01  1.00353348e+00\n",
      "   9.02133374e-01  8.81764562e-01  1.00341391e+00  1.60957272e-01\n",
      "  -5.07092553e-01 -5.34522484e-01 -5.48821300e-01]\n",
      " [ 1.63082018e+00  1.66962415e+00  1.60470761e+00  2.18217890e-01\n",
      "   1.96343178e+00  5.15687954e-01 -9.05959761e-01 -6.05470363e-01\n",
      "   9.53901182e-01  1.01762821e+00  9.97260132e-01  5.84401370e-01\n",
      "   1.24808788e+00  3.61752476e-01 -6.10153580e-01  2.52297887e-01\n",
      "   8.86374846e-01  8.66518999e-01  1.07057907e+00  1.00353348e+00\n",
      "   1.19857477e+00  1.16185448e+00 -2.83155159e+00  9.72741771e-01\n",
      "  -5.07092553e-01 -5.34522484e-01 -5.48821300e-01]\n",
      " [-7.17560880e-01 -7.02999640e-01 -7.62893781e-01  2.18217890e-01\n",
      "  -5.91395114e-01 -7.50091570e-01  6.80694090e-01  2.32873216e-01\n",
      "  -4.97889885e-01 -6.34870066e-01 -5.29887473e-01 -9.48909343e-01\n",
      "  -1.18356637e+00 -1.79973362e-01 -7.92288977e-01  2.52297887e-01\n",
      "  -5.23390415e-01 -8.06552286e-01 -6.07625956e-01 -7.19849104e-01\n",
      "  -7.77701184e-01 -8.61017161e-01 -5.05830575e-01 -8.74767780e-01\n",
      "  -5.07092553e-01  1.87082869e+00 -5.48821300e-01]\n",
      " [-7.17560880e-01 -7.02999640e-01 -7.62893781e-01  2.18217890e-01\n",
      "  -5.91395114e-01 -7.50091570e-01  6.80694090e-01 -1.44381394e+00\n",
      "  -1.90780236e-01 -1.24502328e+00 -1.14610493e+00 -9.48909343e-01\n",
      "  -1.18356637e+00 -1.80515088e+00 -2.34043985e+00  2.52297887e-01\n",
      "  -2.25170840e-01 -9.14492369e-01 -9.54840788e-01 -1.00707953e+00\n",
      "  -1.00826671e+00 -1.20334929e+00 -1.05014826e+00 -1.46261173e+00\n",
      "  -5.07092553e-01 -5.34522484e-01 -5.48821300e-01]\n",
      " [-7.17560880e-01 -7.02999640e-01 -7.62893781e-01  2.18217890e-01\n",
      "  -5.91395114e-01 -7.50091570e-01  6.80694090e-01  2.32873216e-01\n",
      "  -1.81008566e+00 -5.07754814e-01 -5.29887473e-01 -9.48909343e-01\n",
      "  -4.93992778e-01 -1.04673470e+00 -7.92288977e-01  2.52297887e-01\n",
      "  -1.79760132e+00 -1.23831262e+00 -1.01270993e+00 -7.51763596e-01\n",
      "  -1.20589431e+00 -9.85501570e-01 -5.80055714e-01 -9.02760349e-01\n",
      "  -5.07092553e-01 -5.34522484e-01 -5.48821300e-01]\n",
      " [-7.17560880e-01 -7.02999640e-01 -7.62893781e-01  2.18217890e-01\n",
      "  -5.91395114e-01 -7.50091570e-01  6.80694090e-01  2.32873216e-01\n",
      "   2.28005648e-01  3.31205852e-01 -9.85352548e-01 -5.92325457e-01\n",
      "  -1.51020649e+00 -1.04673470e+00 -7.92288977e-01  2.52297887e-01\n",
      "   1.81492216e-01  1.64908460e-01 -1.15738277e-01 -3.36875197e-01\n",
      "  -5.47135657e-01 -6.43169446e-01 -3.57380298e-01 -6.78819797e-01\n",
      "   1.52127766e+00 -5.34522484e-01 -5.48821300e-01]\n",
      " [-7.17560880e-01 -7.02999640e-01 -7.62893781e-01  2.18217890e-01\n",
      "  -5.91395114e-01 -7.50091570e-01  6.80694090e-01  2.32873216e-01\n",
      "  -3.58294590e-01  9.41359063e-01 -6.90639853e-01 -2.17912375e-02\n",
      "   1.95580814e-01  3.61752476e-01 -6.10153580e-01  2.52297887e-01\n",
      "  -3.87836063e-01  8.66518999e-01  5.78691387e-02  1.41842188e-02\n",
      "   7.86850610e-02  1.34858110e-01  2.11679099e-01 -9.09758491e-02\n",
      "  -5.07092553e-01 -5.34522484e-01 -5.48821300e-01]\n",
      " [-7.17560880e-01 -7.02999640e-01 -7.62893781e-01  2.18217890e-01\n",
      "  -5.91395114e-01 -7.50091570e-01  6.80694090e-01  2.32873216e-01\n",
      "  -7.77080475e-01 -1.34671548e+00 -6.90639853e-01 -4.85350290e-01\n",
      "  -2.38124682e+00 -2.32520768e+00 -1.52083057e+00  2.52297887e-01\n",
      "  -7.94499119e-01  1.46018945e+00 -1.04164450e+00 -9.75165043e-01\n",
      "  -1.20589431e+00 -1.48343921e+00 -1.05014826e+00 -1.49060430e+00\n",
      "  -5.07092553e-01 -5.34522484e-01 -5.48821300e-01]\n",
      " [-7.17560880e-01 -7.02999640e-01 -7.62893781e-01  2.18217890e-01\n",
      "  -5.91395114e-01 -7.50091570e-01  6.80694090e-01  2.32873216e-01\n",
      "  -2.11719531e+00 -1.47383073e+00 -1.14610493e+00 -9.48909343e-01\n",
      "  -1.18356637e+00 -6.56692099e-01  2.73203096e-02  2.52297887e-01\n",
      "  -2.09582090e+00 -1.91293814e+00 -1.70713959e+00 -1.61345489e+00\n",
      "  -1.50233570e+00 -1.35895480e+00 -6.79022566e-01 -1.01473062e+00\n",
      "   1.52127766e+00 -5.34522484e-01  1.42693538e+00]\n",
      " [ 6.52328073e-02  8.78749550e-02  1.13118733e+00 -1.09108945e+00\n",
      "   1.11182282e+00  1.78146748e+00 -3.77075144e-01  2.74790395e+00\n",
      "   5.90953415e-01  8.65089912e-01  5.95379183e-01  1.33322753e+00\n",
      "   4.49634243e-01  8.16802180e-01  5.37299421e-01  2.52297887e-01\n",
      "   5.33933531e-01  6.23653812e-01  7.52298803e-01  9.07790003e-01\n",
      "   8.69195441e-01  8.50643460e-01  9.53930487e-01  1.16868975e+00\n",
      "  -5.07092553e-01 -5.34522484e-01 -5.48821300e-01]\n",
      " [ 8.48026495e-01  8.78749550e-02  1.13118733e+00 -1.09108945e+00\n",
      "   1.11182282e+00  9.37614462e-01  1.51809473e-01 -6.05470363e-01\n",
      "   1.70771578e+00  1.32270482e+00  9.70468069e-01  1.51151948e+00\n",
      "   1.24808788e+00  1.16350672e+00  1.24762747e+00  2.52297887e-01\n",
      "   1.61836835e+00  1.37923439e+00  1.44672847e+00  1.51416536e+00\n",
      "   1.49501616e+00  1.44194440e+00  1.52298988e+00  1.28066003e+00\n",
      "  -5.07092553e-01  1.87082869e+00  3.40269206e+00]\n",
      " [-7.17560880e-01 -7.02999640e-01 -7.62893781e-01  2.18217890e-01\n",
      "  -5.91395114e-01 -7.50091570e-01  6.80694090e-01 -1.44381394e+00\n",
      "   5.35115297e-01  3.31205852e-01 -6.90639853e-01 -4.85350290e-01\n",
      "  -6.39166166e-01  3.61752476e-01 -6.10153580e-01  2.52297887e-01\n",
      "   4.79711790e-01  2.99833564e-01  8.68037080e-02 -4.96447658e-02\n",
      "  -1.51880467e-01 -5.18685037e-02  8.79705348e-02 -2.30938694e-01\n",
      "  -5.07092553e-01 -5.34522484e-01 -5.48821300e-01]\n",
      " [-7.17560880e-01 -7.02999640e-01 -7.62893781e-01  2.18217890e-01\n",
      "  -5.91395114e-01 -7.50091570e-01  6.80694090e-01  2.32873216e-01\n",
      "  -5.11849415e-02 -5.07754814e-01 -6.90639853e-01 -4.85350290e-01\n",
      "   1.95580814e-01 -2.82901271e-02  2.73203096e-02  2.52297887e-01\n",
      "  -8.96164883e-02 -4.28761996e-01 -4.62953109e-01 -4.96447658e-01\n",
      "  -3.49508062e-01 -3.00837321e-01  3.84871090e-02 -2.30938694e-01\n",
      "  -5.07092553e-01 -5.34522484e-01  1.42693538e+00]\n",
      " [-7.17560880e-01 -7.02999640e-01 -7.62893781e-01  2.18217890e-01\n",
      "  -5.91395114e-01 -7.50091570e-01  6.80694090e-01  2.32873216e-01\n",
      "  -1.39129977e+00 -1.11790802e+00 -1.14610493e+00 -4.85350290e-01\n",
      "  -1.18356637e+00 -1.04673470e+00 -7.92288977e-01  2.52297887e-01\n",
      "  -1.39093827e+00 -1.37323772e+00 -1.30205562e+00 -1.16665200e+00\n",
      "  -1.14001844e+00 -1.14110708e+00 -7.03764278e-01 -1.04272319e+00\n",
      "  -5.07092553e-01 -5.34522484e-01  1.42693538e+00]\n",
      " [ 1.63082018e+00  1.66962415e+00  1.60470761e+00  1.52752523e+00\n",
      "   2.60213850e-01  9.37614462e-01 -2.31631874e+00 -6.05470363e-01\n",
      "   1.31684895e+00  1.55151227e+00  1.45272521e+00  1.83244497e+00\n",
      "   1.24808788e+00  7.51795080e-01  1.57547118e+00  2.52297887e-01\n",
      "   1.23881616e+00  1.32526435e+00  1.59140131e+00  1.70565231e+00\n",
      "   1.65970582e+00  1.44194440e+00  1.54773160e+00  6.64823513e-01\n",
      "  -5.07092553e-01 -5.34522484e-01 -5.48821300e-01]\n",
      " [-7.17560880e-01 -7.02999640e-01 -7.62893781e-01  2.18217890e-01\n",
      "  -5.91395114e-01 -7.50091570e-01  6.80694090e-01  2.32873216e-01\n",
      "  -1.90780236e-01 -6.34870066e-01 -2.35174777e-01 -1.41246840e+00\n",
      "  -4.93992778e-01 -5.26677898e-01 -6.10153580e-01  2.52297887e-01\n",
      "  -2.25170840e-01 -5.63687100e-01 -4.05083971e-01 -6.87934612e-01\n",
      "  -6.45949454e-01 -6.43169446e-01 -3.07896872e-01 -6.78819797e-01\n",
      "  -5.07092553e-01  1.87082869e+00  1.42693538e+00]\n",
      " [-7.17560880e-01 -7.02999640e-01 -7.62893781e-01  2.18217890e-01\n",
      "  -5.91395114e-01 -7.50091570e-01  6.80694090e-01  2.32873216e-01\n",
      "  -1.53089507e+00 -7.36562268e-01 -1.73553032e+00 -4.85350290e-01\n",
      "  -1.00209964e+00 -7.86706301e-01 -7.92288977e-01  2.52297887e-01\n",
      "  -1.52649262e+00 -1.23831262e+00 -1.38885933e+00 -1.26239547e+00\n",
      "  -1.17295637e+00 -1.14110708e+00 -6.79022566e-01 -1.01473062e+00\n",
      "   1.52127766e+00 -5.34522484e-01  1.42693538e+00]\n",
      " [ 1.63082018e+00  1.66962415e+00  1.60470761e+00 -2.40039679e+00\n",
      "   1.96343178e+00  9.37614462e-01 -1.61113925e+00 -6.05470363e-01\n",
      "   4.51358120e-01  1.78667549e-01  1.21159664e+00  2.99134261e-01\n",
      "   1.24808788e+00  1.38019705e+00  6.64794199e-01  2.52297887e-01\n",
      "   3.98379179e-01  1.64908460e-01  6.36560525e-01  5.56730588e-01\n",
      "   7.37443711e-01  8.81764562e-01  1.37453961e+00  1.56058572e+00\n",
      "  -5.07092553e-01 -5.34522484e-01 -5.48821300e-01]\n",
      " [-7.17560880e-01 -7.02999640e-01 -7.62893781e-01  2.18217890e-01\n",
      "  -5.91395114e-01 -7.50091570e-01  6.80694090e-01  2.32873216e-01\n",
      "  -7.77080475e-01 -1.11790802e+00 -1.44081762e+00 -9.48909343e-01\n",
      "  -1.18356637e+00 -1.41510827e+00 -7.92288977e-01  2.52297887e-01\n",
      "  -7.94499119e-01 -1.10338751e+00 -1.18631734e+00 -1.19856649e+00\n",
      "  -1.17295637e+00 -1.26559149e+00 -7.77989417e-01 -1.09870833e+00\n",
      "   1.52127766e+00 -5.34522484e-01 -5.48821300e-01]\n",
      " [ 1.63082018e+00  1.66962415e+00  1.60470761e+00  1.52752523e+00\n",
      "   2.60213850e-01  5.15687954e-01 -2.49261361e+00 -6.05470363e-01\n",
      "   1.20517271e+00  1.78667549e-01  9.97260132e-01  6.55718148e-01\n",
      "   1.24808788e+00  1.05516155e+00  1.57547118e+00  2.52297887e-01\n",
      "   1.48281400e+00  1.02842912e+00  7.23364233e-01  8.12046526e-01\n",
      "   7.04505779e-01  8.81764562e-01  1.10238076e+00  1.25266746e+00\n",
      "  -5.07092553e-01 -5.34522484e-01 -5.48821300e-01]\n",
      " [-7.17560880e-01 -7.02999640e-01 -7.62893781e-01  2.18217890e-01\n",
      "  -5.91395114e-01 -7.50091570e-01  6.80694090e-01  2.32873216e-01\n",
      "   2.28005648e-01  9.41359063e-01  1.93498235e-01 -2.17912375e-02\n",
      "   5.58514284e-01  3.61752476e-01 -6.10153580e-01  2.52297887e-01\n",
      "   1.81492216e-01  5.15713729e-01  5.49756817e-01  3.97158126e-01\n",
      "   4.73940251e-01  4.46069132e-01  4.09612803e-01  1.32964703e-01\n",
      "   1.52127766e+00  1.87082869e+00 -5.48821300e-01]\n",
      " [-7.17560880e-01 -7.02999640e-01 -7.62893781e-01  2.18217890e-01\n",
      "  -5.91395114e-01 -7.50091570e-01  6.80694090e-01  2.32873216e-01\n",
      "  -9.44594829e-01 -1.47383073e+00 -6.90639853e-01 -4.85350290e-01\n",
      "  -9.47659615e-02 -7.86706301e-01 -7.92288977e-01  2.52297887e-01\n",
      "  -9.57164341e-01 -1.37323772e+00 -1.15738277e+00 -1.03899403e+00\n",
      "  -8.43577049e-01 -8.61017161e-01 -5.05830575e-01 -8.18782642e-01\n",
      "  -5.07092553e-01  1.87082869e+00  1.42693538e+00]\n",
      " [ 6.52328073e-02  8.78749550e-02  1.13118733e+00 -1.09108945e+00\n",
      "   1.11182282e+00  2.20339399e+00 -3.77075144e-01  2.74790395e+00\n",
      "   1.72167530e-01  4.07475003e-01  1.21159664e+00  1.33322753e+00\n",
      "   1.24808788e+00  1.38019705e+00  5.37299421e-01  2.52297887e-01\n",
      "   1.27270475e-01  1.64908460e-01  6.65495095e-01  8.12046526e-01\n",
      "   9.35071306e-01  1.06849118e+00  1.12712248e+00  1.05671948e+00\n",
      "  -5.07092553e-01 -5.34522484e-01 -5.48821300e-01]\n",
      " [ 6.52328073e-02  8.78749550e-02  1.13118733e+00 -1.09108945e+00\n",
      "   1.11182282e+00  2.20339399e+00 -3.77075144e-01 -6.05470363e-01\n",
      "   7.30548710e-01  7.37974660e-01  8.36507753e-01  1.83244497e+00\n",
      "   1.24808788e+00  1.38019705e+00  1.19298685e+00  2.52297887e-01\n",
      "   6.69487883e-01  6.23653812e-01  8.39102511e-01  1.09927696e+00\n",
      "   1.16563683e+00  1.22409669e+00  1.32505618e+00  6.92816082e-01\n",
      "  -5.07092553e-01 -5.34522484e-01 -5.48821300e-01]\n",
      " [-7.17560880e-01 -7.02999640e-01 -7.62893781e-01  2.18217890e-01\n",
      "  -5.91395114e-01 -7.50091570e-01  6.80694090e-01  2.32873216e-01\n",
      "  -9.44594829e-01 -1.47383073e+00 -1.14610493e+00 -1.73339389e+00\n",
      "  -1.18356637e+00 -9.16720502e-01 -7.92288977e-01  2.52297887e-01\n",
      "  -9.57164341e-01 -1.37323772e+00 -1.30205562e+00 -1.48579692e+00\n",
      "  -1.40352190e+00 -1.32783369e+00 -8.27472843e-01 -1.15469347e+00\n",
      "  -5.07092553e-01 -5.34522484e-01 -5.48821300e-01]\n",
      " [ 1.63082018e+00  1.66962415e+00  1.84146775e-01  1.52752523e+00\n",
      "   1.11182282e+00  9.37614462e-01 -2.44853989e-02 -6.05470363e-01\n",
      "   3.11762825e-01 -2.47168546e-02  1.15801251e+00 -2.35741570e-01\n",
      "  -3.12526043e-01  4.48428610e-01  7.01221279e-01  2.52297887e-01\n",
      "   1.15748355e+00 -2.39866851e-02  4.91887679e-01  3.01414650e-01\n",
      "   2.10436791e-01  2.59342518e-01  4.34354516e-01  1.56058572e+00\n",
      "  -5.07092553e-01 -5.34522484e-01 -5.48821300e-01]\n",
      " [ 1.63082018e+00  1.66962415e+00  1.13118733e+00 -2.40039679e+00\n",
      "   1.96343178e+00  9.37614462e-01 -1.25854951e+00 -6.05470363e-01\n",
      "   1.56812048e+00  1.34812787e+00  1.69385378e+00  1.15493559e+00\n",
      "   1.24808788e+00  1.38019705e+00  1.57547118e+00 -1.68198592e-01\n",
      "   1.42859225e+00  1.40621941e+00  1.56246674e+00  1.67373782e+00\n",
      "   1.62676789e+00  1.56642881e+00  1.54773160e+00  1.47660801e+00\n",
      "  -5.07092553e-01 -5.34522484e-01 -5.48821300e-01]\n",
      " [-7.17560880e-01 -7.02999640e-01 -7.62893781e-01  2.18217890e-01\n",
      "  -5.91395114e-01 -7.50091570e-01  6.80694090e-01 -1.44381394e+00\n",
      "  -1.62861177e-01 -9.90792773e-01 -7.44223979e-01 -1.37681001e+00\n",
      "   3.77047549e-01 -1.43677731e+00  1.57547118e+00 -4.62546127e+00\n",
      "   4.59378637e-02 -1.58911789e-01 -3.47214832e-01 -6.56020120e-01\n",
      "  -8.76514982e-01 -9.85501570e-01 -6.04797427e-01 -9.86738056e-01\n",
      "  -5.07092553e-01  1.87082869e+00  1.42693538e+00]\n",
      " [-7.17560880e-01 -7.02999640e-01 -7.62893781e-01  2.18217890e-01\n",
      "  -5.91395114e-01 -7.50091570e-01  6.80694090e-01  2.32873216e-01\n",
      "  -2.11719531e+00 -1.60094598e+00 -6.90639853e-01 -2.17912375e-02\n",
      "  -1.31059308e-01 -1.58304328e-01 -6.10153580e-01  2.52297887e-01\n",
      "  -2.09582090e+00 -1.99389320e+00 -1.59140131e+00 -1.29430997e+00\n",
      "  -1.04120464e+00 -8.92138263e-01 -4.81088862e-01 -8.74767780e-01\n",
      "   1.52127766e+00 -5.34522484e-01 -5.48821300e-01]\n",
      " [-7.17560880e-01 -7.02999640e-01 -7.62893781e-01  2.18217890e-01\n",
      "  -5.91395114e-01 -7.50091570e-01  6.80694090e-01  2.32873216e-01\n",
      "   3.95520002e-01 -6.34870066e-01 -6.90639853e-01 -2.17912375e-02\n",
      "   1.95580814e-01  1.01724074e-01 -1.54815088e-01  2.52297887e-01\n",
      "   3.44157438e-01 -2.93836892e-01 -3.47214832e-01 -3.04960704e-01\n",
      "  -1.84818399e-01 -1.45231810e-01  1.12712248e-01 -1.46960987e-01\n",
      "  -5.07092553e-01  1.87082869e+00 -5.48821300e-01]\n",
      " [ 1.63082018e+00  1.66962415e+00  1.60470761e+00  1.52752523e+00\n",
      "   2.60213850e-01  9.37614462e-01 -1.25854951e+00 -6.05470363e-01\n",
      "   1.20517271e+00  1.24643567e+00  1.23838870e+00  6.55718148e-01\n",
      "   9.21447753e-01  7.51795080e-01  1.57547118e+00  2.52297887e-01\n",
      "   1.13037268e+00  1.10938419e+00  1.33099019e+00  1.22693493e+00\n",
      "   1.19857477e+00  1.09961228e+00  1.52298988e+00  1.00073434e+00\n",
      "  -5.07092553e-01 -5.34522484e-01 -5.48821300e-01]\n",
      " [ 1.63082018e+00  1.66962415e+00  1.60470761e+00  1.52752523e+00\n",
      "  -2.29461304e+00  9.37614462e-01 -1.96372899e+00 -6.05470363e-01\n",
      "   1.20517271e+00  9.15936013e-01  9.97260132e-01  5.13084593e-01\n",
      "   6.67394325e-01  1.38019705e+00  3.55164024e-01  2.52297887e-01\n",
      "   1.13037268e+00  9.20489040e-01  1.12844820e+00  1.00353348e+00\n",
      "   9.68009239e-01  1.06849118e+00 -1.37179053e+00  1.36463774e+00\n",
      "  -5.07092553e-01 -5.34522484e-01 -5.48821300e-01]\n",
      " [-7.17560880e-01 -7.02999640e-01 -7.62893781e-01  2.18217890e-01\n",
      "  -5.91395114e-01 -7.50091570e-01  6.80694090e-01  2.32873216e-01\n",
      "  -4.97889885e-01 -6.34870066e-01 -5.29887473e-01 -9.48909343e-01\n",
      "  -1.18356637e+00 -1.04673470e+00 -7.92288977e-01  2.52297887e-01\n",
      "  -5.23390415e-01 -6.98612203e-01 -8.96971649e-01 -7.19849104e-01\n",
      "  -7.77701184e-01 -8.61017161e-01 -5.05830575e-01 -8.74767780e-01\n",
      "   1.52127766e+00 -5.34522484e-01  1.42693538e+00]\n",
      " [-7.17560880e-01 -7.02999640e-01 -7.62893781e-01  2.18217890e-01\n",
      "  -5.91395114e-01 -7.50091570e-01  6.80694090e-01  2.32873216e-01\n",
      "   3.95520002e-01  1.29728177e+00 -2.35174777e-01 -2.17912375e-02\n",
      "   1.95580814e-01  5.78442812e-01 -6.10153580e-01  2.52297887e-01\n",
      "   3.44157438e-01  8.39533978e-01  6.07625956e-01  4.60987111e-01\n",
      "   4.41002319e-01  4.77190234e-01  4.34354516e-01  1.60957272e-01\n",
      "   3.54964787e+00  1.87082869e+00 -5.48821300e-01]\n",
      " [-7.17560880e-01 -7.02999640e-01 -7.62893781e-01  2.18217890e-01\n",
      "  -5.91395114e-01 -7.50091570e-01  6.80694090e-01 -1.44381394e+00\n",
      "  -3.58294590e-01  2.29513650e-01  5.95379183e-02 -9.48909343e-01\n",
      "   5.04074263e-02 -2.82901271e-02  2.73203096e-02  2.52297887e-01\n",
      "  -3.87836063e-01  1.10938419e-01 -1.28495300e-15 -2.73046212e-01\n",
      "  -1.84818399e-01 -1.76352912e-01  1.37453961e-01 -3.98894108e-01\n",
      "  -5.07092553e-01 -5.34522484e-01 -5.48821300e-01]\n",
      " [ 1.63082018e+00  1.66962415e+00  1.84146775e-01 -2.40039679e+00\n",
      "   1.96343178e+00  9.37614462e-01 -1.78743412e+00 -6.05470363e-01\n",
      "   1.06557742e+00  1.34812787e+00  1.69385378e+00  1.47586109e+00\n",
      "   1.24808788e+00  1.07683058e+00  1.57547118e+00  2.52297887e-01\n",
      "   9.94818328e-01  1.10938419e+00  1.47566304e+00  1.54607985e+00\n",
      "   1.52795409e+00  1.44194440e+00 -1.07488997e+00  1.56058572e+00\n",
      "  -5.07092553e-01 -5.34522484e-01 -5.48821300e-01]]\n"
     ]
    }
   ],
   "source": [
    "print(X_train)"
   ]
  },
  {
   "cell_type": "code",
   "execution_count": 38,
   "metadata": {
    "colab": {
     "base_uri": "https://localhost:8080/",
     "height": 1000
    },
    "colab_type": "code",
    "executionInfo": {
     "elapsed": 2362,
     "status": "ok",
     "timestamp": 1588492962262,
     "user": {
      "displayName": "Hadelin de Ponteves",
      "photoUrl": "https://lh3.googleusercontent.com/a-/AOh14GhEuXdT7eQweUmRPW8_laJuPggSK6hfvpl5a6WBaA=s64",
      "userId": "15047218817161520419"
     },
     "user_tz": -240
    },
    "id": "JUd6iBRp2C3L",
    "outputId": "073a17d9-26cd-48e5-923b-0bdb74b5fb14"
   },
   "outputs": [
    {
     "name": "stdout",
     "output_type": "stream",
     "text": [
      "[[ 1.63082018  1.66962415  1.60470761  1.52752523 -2.29461304  0.93761446\n",
      "  -1.96372899 -1.44381394  1.20517271  0.91593601  1.45272521  0.19215909\n",
      "   0.30446086  1.38019705  1.30226809  0.25229789  1.13037268  0.92048904\n",
      "   1.30205562  1.06736246  0.96800924  1.06849118  1.20134762  0.8607715\n",
      "  -0.50709255 -0.53452248 -0.5488213 ]\n",
      " [-0.71756088 -0.70299964 -0.76289378  0.21821789 -0.59139511 -0.75009157\n",
      "   0.68069409  0.23287322  0.5351153  -0.15183211  0.19349823 -0.02179124\n",
      "   0.19558081  0.36175248 -0.61015358  0.25229789  0.47971179  0.02998336\n",
      "   0.20254199  0.14184219  0.17749886  0.19710031  0.50857965 -0.03499071\n",
      "  -0.50709255  1.87082869  1.42693538]\n",
      " [ 1.63082018  1.66962415  1.60470761  1.52752523 -0.59139511  0.93761446\n",
      "  -1.78743412 -0.60547036  1.70771578  1.24643567  1.2383887   0.94098526\n",
      "   1.24808788  1.07683058  1.57547118  0.25229789  1.482814    1.27129431\n",
      "   1.30205562  1.38650739  1.39620236  1.31745999  1.42402303 -0.00699814\n",
      "  -0.50709255 -0.53452248 -0.5488213 ]\n",
      " [ 1.63082018  1.66962415  0.18414677  1.52752523  1.11182282  0.93761446\n",
      "  -0.0244854  -0.60547036  0.20008659 -0.02471685  0.80971569  0.69137654\n",
      "  -0.31252604  0.44842861  0.70122128  0.25229789  0.04593786 -0.02398669\n",
      "   0.49188768  0.30141465  0.21043679  0.25934252  1.39928132  0.63683094\n",
      "  -0.50709255 -0.53452248 -0.5488213 ]\n",
      " [ 1.63082018  1.66962415  1.60470761  1.52752523 -2.29461304  0.93761446\n",
      "  -2.31631874 -0.60547036  0.81430589  0.38205195  0.54179506  1.08361881\n",
      "  -0.85692625  1.07683058  1.57547118  0.25229789  0.75082049  0.46174369\n",
      "   0.60762596  0.74821754  0.50687818  0.63279574  0.85496364 -0.03499071\n",
      "  -0.50709255 -0.53452248 -0.5488213 ]\n",
      " [ 1.63082018  1.66962415  1.13118733 -2.40039679  1.96343178  0.93761446\n",
      "  -2.31631874 -0.60547036  1.56812048  1.34812787  1.31876489  1.47586109\n",
      "   1.24808788  1.07683058  0.97442437  0.25229789  1.482814    1.32526435\n",
      "   1.53353217  1.57799434  1.56089202  1.4730655  -1.02540655  0.88876406\n",
      "  -0.50709255 -0.53452248 -0.5488213 ]\n",
      " [ 1.63082018  1.66962415  1.60470761 -2.40039679  1.96343178  0.93761446\n",
      "  -1.61113925 -0.60547036  0.81430589  1.34812787  1.2383887   1.47586109\n",
      "   1.24808788  1.38019705  1.17477331  0.25229789  0.75082049  0.97445908\n",
      "   1.24418648  1.3226784   1.36326443  1.3797022   1.37453961  1.56058572\n",
      "  -0.50709255 -0.53452248 -0.5488213 ]\n",
      " [ 0.06523281  0.08787496  1.13118733 -1.09108945  1.11182282  2.20339399\n",
      "  -0.37707514  0.23287322  0.59095342  0.407475    0.11312204  0.54874298\n",
      "   0.92144775  0.83847121  0.13660155  0.25229789  0.53393353  0.35380361\n",
      "   0.40508397  0.42907262  0.53981612  0.63279574  0.75599678  0.66482351\n",
      "  -0.50709255 -0.53452248 -0.5488213 ]\n",
      " [-0.71756088 -0.70299964 -0.76289378  0.21821789 -0.59139511 -0.75009157\n",
      "   0.68069409  0.23287322 -2.3963859  -1.60094598 -1.44081762 -0.94890934\n",
      "  -0.49399278 -0.7867063  -0.79228898  0.25229789 -2.3669296  -2.1288183\n",
      "  -1.93861615 -1.80494184 -1.53527363 -1.421197   -0.87695627 -1.21067861\n",
      "  -0.50709255  1.87082869 -0.5488213 ]\n",
      " [-0.71756088 -0.70299964 -0.76289378  0.21821789 -0.59139511 -0.75009157\n",
      "   0.68069409  0.23287322  0.08841035  0.3057828  -0.69063985 -0.48535029\n",
      "   0.19558081  0.36175248 -0.61015358  0.25229789  0.04593786  0.11093842\n",
      "  -0.05786914 -0.17730274 -0.0860046   0.0103737   0.11271225 -0.20294612\n",
      "  -0.50709255  1.87082869 -0.5488213 ]\n",
      " [-0.71756088 -0.70299964 -0.76289378  0.21821789 -0.59139511 -0.75009157\n",
      "   0.68069409  0.23287322 -0.49788989 -0.25352431 -0.69063985 -0.80627579\n",
      "  -1.69167323 -1.0467347  -0.68300774  0.25229789 -0.52339041 -0.50971706\n",
      "  -0.49188768 -0.62410563 -0.77770118 -0.86101716 -0.50583058 -0.81878264\n",
      "  -0.50709255 -0.53452248  1.42693538]\n",
      " [ 1.63082018  1.66962415  1.60470761  1.52752523 -2.29461304  0.93761446\n",
      "  -2.31631874 -0.60547036  1.20517271  0.71255161  0.89009188  0.19215909\n",
      "   1.24808788  1.07683058  1.57547118  0.25229789  1.13037268  0.81254896\n",
      "   0.98377536  0.68438856  0.90213337  0.94400677  1.12712248  0.9447492\n",
      "  -0.50709255 -0.53452248 -0.5488213 ]\n",
      " [ 0.84802649  1.66962415  1.60470761  1.52752523 -0.59139511  0.93761446\n",
      "  -2.31631874 -0.60547036  0.36760094  1.11932042  0.64896331 -0.37837512\n",
      "   0.4133409   1.07683058  1.57547118  0.25229789  0.31704657  0.67762385\n",
      "   0.81016794  0.55673059  0.53981612  0.66391685  1.57247331  1.19668232\n",
      "  -0.50709255 -0.53452248 -0.5488213 ]]\n"
     ]
    }
   ],
   "source": [
    "print(X_test)"
   ]
  },
  {
   "cell_type": "markdown",
   "metadata": {
    "colab_type": "text",
    "id": "bb6jCOCQiAmP"
   },
   "source": [
    "## Training the K-NN model on the Training set"
   ]
  },
  {
   "cell_type": "code",
   "execution_count": 39,
   "metadata": {
    "colab": {
     "base_uri": "https://localhost:8080/",
     "height": 68
    },
    "colab_type": "code",
    "executionInfo": {
     "elapsed": 2356,
     "status": "ok",
     "timestamp": 1588492962262,
     "user": {
      "displayName": "Hadelin de Ponteves",
      "photoUrl": "https://lh3.googleusercontent.com/a-/AOh14GhEuXdT7eQweUmRPW8_laJuPggSK6hfvpl5a6WBaA=s64",
      "userId": "15047218817161520419"
     },
     "user_tz": -240
    },
    "id": "e0pFVAmciHQs",
    "outputId": "8cb18c23-669b-452a-9bee-b2f96534f0f5"
   },
   "outputs": [
    {
     "data": {
      "text/plain": [
       "KNeighborsClassifier(n_neighbors=7)"
      ]
     },
     "execution_count": 39,
     "metadata": {},
     "output_type": "execute_result"
    }
   ],
   "source": [
    "from sklearn.neighbors import KNeighborsClassifier\n",
    "classifier = KNeighborsClassifier(n_neighbors = 7, metric = 'minkowski', p = 2)\n",
    "classifier.fit(X_train, y_train)"
   ]
  },
  {
   "cell_type": "markdown",
   "metadata": {
    "colab_type": "text",
    "id": "yyxW5b395mR2"
   },
   "source": [
    "## Predicting a new result"
   ]
  },
  {
   "cell_type": "code",
   "execution_count": 40,
   "metadata": {
    "colab": {
     "base_uri": "https://localhost:8080/",
     "height": 34
    },
    "colab_type": "code",
    "executionInfo": {
     "elapsed": 2351,
     "status": "ok",
     "timestamp": 1588492962263,
     "user": {
      "displayName": "Hadelin de Ponteves",
      "photoUrl": "https://lh3.googleusercontent.com/a-/AOh14GhEuXdT7eQweUmRPW8_laJuPggSK6hfvpl5a6WBaA=s64",
      "userId": "15047218817161520419"
     },
     "user_tz": -240
    },
    "id": "f8YOXsQy58rP",
    "outputId": "e248f6c5-4613-4a9e-faed-093c46defda1"
   },
   "outputs": [
    {
     "name": "stdout",
     "output_type": "stream",
     "text": [
      "[1]\n"
     ]
    }
   ],
   "source": [
    "print(classifier.predict(sc.transform([[19,21,18,23,21,17,20,8,3.58,3.33,3.45,3.46,3.51,3.51,3.51,3.43,0,1,1,1,1,1,1,1,1,1,2]])))"
   ]
  },
  {
   "cell_type": "markdown",
   "metadata": {
    "colab_type": "text",
    "id": "vKYVQH-l5NpE"
   },
   "source": [
    "## Predicting the Test set results"
   ]
  },
  {
   "cell_type": "code",
   "execution_count": 41,
   "metadata": {
    "colab": {
     "base_uri": "https://localhost:8080/",
     "height": 1000
    },
    "colab_type": "code",
    "executionInfo": {
     "elapsed": 2345,
     "status": "ok",
     "timestamp": 1588492962263,
     "user": {
      "displayName": "Hadelin de Ponteves",
      "photoUrl": "https://lh3.googleusercontent.com/a-/AOh14GhEuXdT7eQweUmRPW8_laJuPggSK6hfvpl5a6WBaA=s64",
      "userId": "15047218817161520419"
     },
     "user_tz": -240
    },
    "id": "p6VMTb2O4hwM",
    "outputId": "14b859cb-16df-4e5d-894b-3bda8e756d3d"
   },
   "outputs": [
    {
     "name": "stdout",
     "output_type": "stream",
     "text": [
      "[[0 0]\n",
      " [1 1]\n",
      " [0 0]\n",
      " [0 0]\n",
      " [0 0]\n",
      " [0 0]\n",
      " [0 0]\n",
      " [0 0]\n",
      " [1 1]\n",
      " [1 1]\n",
      " [1 1]\n",
      " [0 0]\n",
      " [0 0]]\n"
     ]
    }
   ],
   "source": [
    "y_pred = classifier.predict(X_test)\n",
    "print(np.concatenate((y_pred.reshape(len(y_pred),1), y_test.reshape(len(y_test),1)),1))"
   ]
  },
  {
   "cell_type": "code",
   "execution_count": 42,
   "metadata": {},
   "outputs": [
    {
     "name": "stdout",
     "output_type": "stream",
     "text": [
      "[[9 0]\n",
      " [0 4]]\n"
     ]
    },
    {
     "data": {
      "text/plain": [
       "1.0"
      ]
     },
     "execution_count": 42,
     "metadata": {},
     "output_type": "execute_result"
    }
   ],
   "source": [
    "#Confussion Matrix\n",
    "from sklearn.metrics import confusion_matrix, accuracy_score\n",
    "cm = confusion_matrix(y_test, y_pred)\n",
    "print(cm)\n",
    "\n",
    "# Menghitung Nilai Akurasi\n",
    "accuracy_score(y_test, y_pred)"
   ]
  },
  {
   "cell_type": "markdown",
   "metadata": {
    "colab_type": "text",
    "id": "h4Hwj34ziWQW"
   },
   "source": [
    "## Confusion Matrix"
   ]
  },
  {
   "cell_type": "code",
   "execution_count": 43,
   "metadata": {},
   "outputs": [
    {
     "data": {
      "image/png": "[encoded data removed]",
      "text/plain": [
       "<Figure size 576x360 with 2 Axes>"
      ]
     },
     "metadata": {
      "needs_background": "light"
     },
     "output_type": "display_data"
    }
   ],
   "source": [
    "import seaborn as sns\n",
    "import matplotlib.pyplot as plt\n",
    "f, ax = plt.subplots(figsize=(8,5))\n",
    "\n",
    "sns.heatmap(confusion_matrix(y_test, y_pred), annot=True, fmt=\".0f\", ax=ax)\n",
    "plt.xlabel(\"y_head\")\n",
    "plt.ylabel(\"y_true\")\n",
    "plt.show()"
   ]
  },
  {
   "cell_type": "markdown",
   "metadata": {},
   "source": [
    "### Menghitung nilai  accuracy, precision, recall dan F-1 score"
   ]
  },
  {
   "cell_type": "code",
   "execution_count": 44,
   "metadata": {},
   "outputs": [
    {
     "name": "stdout",
     "output_type": "stream",
     "text": [
      "              precision    recall  f1-score   support\n",
      "\n",
      "           0       1.00      1.00      1.00         9\n",
      "           1       1.00      1.00      1.00         4\n",
      "\n",
      "    accuracy                           1.00        13\n",
      "   macro avg       1.00      1.00      1.00        13\n",
      "weighted avg       1.00      1.00      1.00        13\n",
      "\n"
     ]
    }
   ],
   "source": [
    "from sklearn.metrics import classification_report\n",
    "print(classification_report(y_test, y_pred))"
   ]
  },
  {
   "cell_type": "code",
   "execution_count": null,
   "metadata": {},
   "outputs": [],
   "source": []
  }
 ],
 "metadata": {
  "colab": {
   "authorship_tag": "ABX9TyO/71HmJztjHpR9Q3DXpRZQ",
   "collapsed_sections": [],
   "machine_shape": "hm",
   "name": "k_nearest_neighbors.ipynb",
   "provenance": [],
   "toc_visible": true
  },
  "kernelspec": {
   "display_name": "Python 3",
   "language": "python",
   "name": "python3"
  },
  "language_info": {
   "codemirror_mode": {
    "name": "ipython",
    "version": 3
   },
   "file_extension": ".py",
   "mimetype": "text/x-python",
   "name": "python",
   "nbconvert_exporter": "python",
   "pygments_lexer": "ipython3",
   "version": "3.8.3"
  }
 },
 "nbformat": 4,
 "nbformat_minor": 1
}
